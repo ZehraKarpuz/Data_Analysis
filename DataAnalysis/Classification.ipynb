{
 "cells": [
  {
   "cell_type": "code",
   "execution_count": 2,
   "id": "5b45bebc",
   "metadata": {},
   "outputs": [],
   "source": [
    "import pandas as pd\n",
    "df=pd.read_csv(\"data.csv\")"
   ]
  },
  {
   "cell_type": "code",
   "execution_count": 5,
   "id": "1915621e",
   "metadata": {},
   "outputs": [
    {
     "name": "stdout",
     "output_type": "stream",
     "text": [
      "126426\n"
     ]
    }
   ],
   "source": [
    "print(df['Id'].count())\n",
    "#kayıt sayısı"
   ]
  },
  {
   "cell_type": "code",
   "execution_count": 50,
   "id": "be40c6fa",
   "metadata": {},
   "outputs": [
    {
     "name": "stdout",
     "output_type": "stream",
     "text": [
      "Index(['Id', 'Elevation', 'Aspect', 'Slope',\n",
      "       'Horizontal_Distance_To_Hydrology', 'Vertical_Distance_To_Hydrology',\n",
      "       'Horizontal_Distance_To_Roadways', 'Hillshade_9am', 'Hillshade_Noon',\n",
      "       'Hillshade_3pm', 'Horizontal_Distance_To_Fire_Points',\n",
      "       'Wilderness_Area1', 'Wilderness_Area2', 'Wilderness_Area3',\n",
      "       'Wilderness_Area4', 'Soil_Type1', 'Soil_Type2', 'Soil_Type3',\n",
      "       'Soil_Type4', 'Soil_Type5', 'Soil_Type6', 'Soil_Type7', 'Soil_Type8',\n",
      "       'Soil_Type9', 'Soil_Type10', 'Soil_Type11', 'Soil_Type12',\n",
      "       'Soil_Type13', 'Soil_Type14', 'Soil_Type15', 'Soil_Type16',\n",
      "       'Soil_Type17', 'Soil_Type18', 'Soil_Type19', 'Soil_Type20',\n",
      "       'Soil_Type21', 'Soil_Type22', 'Soil_Type23', 'Soil_Type24',\n",
      "       'Soil_Type25', 'Soil_Type26', 'Soil_Type27', 'Soil_Type28',\n",
      "       'Soil_Type29', 'Soil_Type30', 'Soil_Type31', 'Soil_Type32',\n",
      "       'Soil_Type33', 'Soil_Type34', 'Soil_Type35', 'Soil_Type36',\n",
      "       'Soil_Type37', 'Soil_Type38', 'Soil_Type39', 'Soil_Type40',\n",
      "       'Cover_Type'],\n",
      "      dtype='object')\n"
     ]
    }
   ],
   "source": [
    "print(df.columns)"
   ]
  },
  {
   "cell_type": "code",
   "execution_count": 51,
   "id": "e5eacd4a",
   "metadata": {},
   "outputs": [
    {
     "name": "stdout",
     "output_type": "stream",
     "text": [
      "Id                                      int64\n",
      "Elevation                             float64\n",
      "Aspect                                float64\n",
      "Slope                                 float64\n",
      "Horizontal_Distance_To_Hydrology      float64\n",
      "Vertical_Distance_To_Hydrology        float64\n",
      "Horizontal_Distance_To_Roadways       float64\n",
      "Hillshade_9am                         float64\n",
      "Hillshade_Noon                        float64\n",
      "Hillshade_3pm                         float64\n",
      "Horizontal_Distance_To_Fire_Points    float64\n",
      "Wilderness_Area1                        int64\n",
      "Wilderness_Area2                        int64\n",
      "Wilderness_Area3                        int64\n",
      "Wilderness_Area4                        int64\n",
      "Soil_Type1                              int64\n",
      "Soil_Type2                              int64\n",
      "Soil_Type3                              int64\n",
      "Soil_Type4                              int64\n",
      "Soil_Type5                              int64\n",
      "Soil_Type6                              int64\n",
      "Soil_Type7                              int64\n",
      "Soil_Type8                              int64\n",
      "Soil_Type9                              int64\n",
      "Soil_Type10                             int64\n",
      "Soil_Type11                             int64\n",
      "Soil_Type12                             int64\n",
      "Soil_Type13                             int64\n",
      "Soil_Type14                             int64\n",
      "Soil_Type15                             int64\n",
      "Soil_Type16                             int64\n",
      "Soil_Type17                             int64\n",
      "Soil_Type18                             int64\n",
      "Soil_Type19                             int64\n",
      "Soil_Type20                             int64\n",
      "Soil_Type21                             int64\n",
      "Soil_Type22                             int64\n",
      "Soil_Type23                             int64\n",
      "Soil_Type24                             int64\n",
      "Soil_Type25                             int64\n",
      "Soil_Type26                             int64\n",
      "Soil_Type27                             int64\n",
      "Soil_Type28                             int64\n",
      "Soil_Type29                             int64\n",
      "Soil_Type30                             int64\n",
      "Soil_Type31                             int64\n",
      "Soil_Type32                             int64\n",
      "Soil_Type33                             int64\n",
      "Soil_Type34                             int64\n",
      "Soil_Type35                             int64\n",
      "Soil_Type36                             int64\n",
      "Soil_Type37                             int64\n",
      "Soil_Type38                             int64\n",
      "Soil_Type39                             int64\n",
      "Soil_Type40                             int64\n",
      "Cover_Type                              int64\n",
      "dtype: object\n"
     ]
    }
   ],
   "source": [
    "print(df.dtypes)"
   ]
  },
  {
   "cell_type": "code",
   "execution_count": 12,
   "id": "374e0d0d",
   "metadata": {},
   "outputs": [
    {
     "data": {
      "text/html": [
       "<div>\n",
       "<style scoped>\n",
       "    .dataframe tbody tr th:only-of-type {\n",
       "        vertical-align: middle;\n",
       "    }\n",
       "\n",
       "    .dataframe tbody tr th {\n",
       "        vertical-align: top;\n",
       "    }\n",
       "\n",
       "    .dataframe thead th {\n",
       "        text-align: right;\n",
       "    }\n",
       "</style>\n",
       "<table border=\"1\" class=\"dataframe\">\n",
       "  <thead>\n",
       "    <tr style=\"text-align: right;\">\n",
       "      <th></th>\n",
       "      <th>Id</th>\n",
       "      <th>Elevation</th>\n",
       "      <th>Aspect</th>\n",
       "      <th>Slope</th>\n",
       "      <th>Horizontal_Distance_To_Hydrology</th>\n",
       "      <th>Vertical_Distance_To_Hydrology</th>\n",
       "      <th>Horizontal_Distance_To_Roadways</th>\n",
       "      <th>Hillshade_9am</th>\n",
       "      <th>Hillshade_Noon</th>\n",
       "      <th>Hillshade_3pm</th>\n",
       "      <th>...</th>\n",
       "      <th>Soil_Type32</th>\n",
       "      <th>Soil_Type33</th>\n",
       "      <th>Soil_Type34</th>\n",
       "      <th>Soil_Type35</th>\n",
       "      <th>Soil_Type36</th>\n",
       "      <th>Soil_Type37</th>\n",
       "      <th>Soil_Type38</th>\n",
       "      <th>Soil_Type39</th>\n",
       "      <th>Soil_Type40</th>\n",
       "      <th>Cover_Type</th>\n",
       "    </tr>\n",
       "  </thead>\n",
       "  <tbody>\n",
       "    <tr>\n",
       "      <th>0</th>\n",
       "      <td>1</td>\n",
       "      <td>3317.0</td>\n",
       "      <td>131.0</td>\n",
       "      <td>20.0</td>\n",
       "      <td>232.0</td>\n",
       "      <td>21.0</td>\n",
       "      <td>1762.0</td>\n",
       "      <td>237.0</td>\n",
       "      <td>195.0</td>\n",
       "      <td>136.0</td>\n",
       "      <td>...</td>\n",
       "      <td>1</td>\n",
       "      <td>0</td>\n",
       "      <td>0</td>\n",
       "      <td>0</td>\n",
       "      <td>0</td>\n",
       "      <td>0</td>\n",
       "      <td>0</td>\n",
       "      <td>0</td>\n",
       "      <td>0</td>\n",
       "      <td>1</td>\n",
       "    </tr>\n",
       "    <tr>\n",
       "      <th>1</th>\n",
       "      <td>2</td>\n",
       "      <td>3221.0</td>\n",
       "      <td>243.0</td>\n",
       "      <td>7.0</td>\n",
       "      <td>163.0</td>\n",
       "      <td>161.0</td>\n",
       "      <td>2153.0</td>\n",
       "      <td>196.0</td>\n",
       "      <td>222.0</td>\n",
       "      <td>131.0</td>\n",
       "      <td>...</td>\n",
       "      <td>0</td>\n",
       "      <td>0</td>\n",
       "      <td>0</td>\n",
       "      <td>1</td>\n",
       "      <td>0</td>\n",
       "      <td>0</td>\n",
       "      <td>0</td>\n",
       "      <td>0</td>\n",
       "      <td>0</td>\n",
       "      <td>1</td>\n",
       "    </tr>\n",
       "    <tr>\n",
       "      <th>2</th>\n",
       "      <td>3</td>\n",
       "      <td>3156.0</td>\n",
       "      <td>305.0</td>\n",
       "      <td>12.0</td>\n",
       "      <td>183.0</td>\n",
       "      <td>5.0</td>\n",
       "      <td>2769.0</td>\n",
       "      <td>240.0</td>\n",
       "      <td>253.0</td>\n",
       "      <td>235.0</td>\n",
       "      <td>...</td>\n",
       "      <td>1</td>\n",
       "      <td>0</td>\n",
       "      <td>0</td>\n",
       "      <td>0</td>\n",
       "      <td>0</td>\n",
       "      <td>0</td>\n",
       "      <td>0</td>\n",
       "      <td>0</td>\n",
       "      <td>0</td>\n",
       "      <td>1</td>\n",
       "    </tr>\n",
       "    <tr>\n",
       "      <th>3</th>\n",
       "      <td>4</td>\n",
       "      <td>3157.0</td>\n",
       "      <td>135.0</td>\n",
       "      <td>10.0</td>\n",
       "      <td>68.0</td>\n",
       "      <td>55.0</td>\n",
       "      <td>1641.0</td>\n",
       "      <td>227.0</td>\n",
       "      <td>253.0</td>\n",
       "      <td>159.0</td>\n",
       "      <td>...</td>\n",
       "      <td>1</td>\n",
       "      <td>0</td>\n",
       "      <td>0</td>\n",
       "      <td>0</td>\n",
       "      <td>0</td>\n",
       "      <td>0</td>\n",
       "      <td>0</td>\n",
       "      <td>0</td>\n",
       "      <td>0</td>\n",
       "      <td>1</td>\n",
       "    </tr>\n",
       "    <tr>\n",
       "      <th>4</th>\n",
       "      <td>5</td>\n",
       "      <td>3209.0</td>\n",
       "      <td>292.0</td>\n",
       "      <td>2.0</td>\n",
       "      <td>430.0</td>\n",
       "      <td>39.0</td>\n",
       "      <td>460.0</td>\n",
       "      <td>223.0</td>\n",
       "      <td>246.0</td>\n",
       "      <td>125.0</td>\n",
       "      <td>...</td>\n",
       "      <td>1</td>\n",
       "      <td>0</td>\n",
       "      <td>0</td>\n",
       "      <td>0</td>\n",
       "      <td>0</td>\n",
       "      <td>0</td>\n",
       "      <td>0</td>\n",
       "      <td>0</td>\n",
       "      <td>0</td>\n",
       "      <td>1</td>\n",
       "    </tr>\n",
       "  </tbody>\n",
       "</table>\n",
       "<p>5 rows × 56 columns</p>\n",
       "</div>"
      ],
      "text/plain": [
       "   Id  Elevation  Aspect  Slope  Horizontal_Distance_To_Hydrology  \\\n",
       "0   1     3317.0   131.0   20.0                             232.0   \n",
       "1   2     3221.0   243.0    7.0                             163.0   \n",
       "2   3     3156.0   305.0   12.0                             183.0   \n",
       "3   4     3157.0   135.0   10.0                              68.0   \n",
       "4   5     3209.0   292.0    2.0                             430.0   \n",
       "\n",
       "   Vertical_Distance_To_Hydrology  Horizontal_Distance_To_Roadways  \\\n",
       "0                            21.0                           1762.0   \n",
       "1                           161.0                           2153.0   \n",
       "2                             5.0                           2769.0   \n",
       "3                            55.0                           1641.0   \n",
       "4                            39.0                            460.0   \n",
       "\n",
       "   Hillshade_9am  Hillshade_Noon  Hillshade_3pm  ...  Soil_Type32  \\\n",
       "0          237.0           195.0          136.0  ...            1   \n",
       "1          196.0           222.0          131.0  ...            0   \n",
       "2          240.0           253.0          235.0  ...            1   \n",
       "3          227.0           253.0          159.0  ...            1   \n",
       "4          223.0           246.0          125.0  ...            1   \n",
       "\n",
       "   Soil_Type33  Soil_Type34  Soil_Type35  Soil_Type36  Soil_Type37  \\\n",
       "0            0            0            0            0            0   \n",
       "1            0            0            1            0            0   \n",
       "2            0            0            0            0            0   \n",
       "3            0            0            0            0            0   \n",
       "4            0            0            0            0            0   \n",
       "\n",
       "   Soil_Type38  Soil_Type39  Soil_Type40  Cover_Type  \n",
       "0            0            0            0           1  \n",
       "1            0            0            0           1  \n",
       "2            0            0            0           1  \n",
       "3            0            0            0           1  \n",
       "4            0            0            0           1  \n",
       "\n",
       "[5 rows x 56 columns]"
      ]
     },
     "execution_count": 12,
     "metadata": {},
     "output_type": "execute_result"
    }
   ],
   "source": [
    "df.head()"
   ]
  },
  {
   "cell_type": "code",
   "execution_count": 13,
   "id": "f3030e88",
   "metadata": {},
   "outputs": [
    {
     "data": {
      "text/plain": [
       "(126426, 56)"
      ]
     },
     "execution_count": 13,
     "metadata": {},
     "output_type": "execute_result"
    }
   ],
   "source": [
    "df.shape\n",
    "#kayıt sayısı,kolon sayısı"
   ]
  },
  {
   "cell_type": "code",
   "execution_count": 9,
   "id": "3cdffc4a",
   "metadata": {},
   "outputs": [
    {
     "data": {
      "text/plain": [
       "'Elevation'"
      ]
     },
     "execution_count": 9,
     "metadata": {},
     "output_type": "execute_result"
    }
   ],
   "source": [
    "columns_array[1]"
   ]
  },
  {
   "cell_type": "code",
   "execution_count": 23,
   "id": "2ba9fba7",
   "metadata": {},
   "outputs": [
    {
     "data": {
      "text/html": [
       "<div>\n",
       "<style scoped>\n",
       "    .dataframe tbody tr th:only-of-type {\n",
       "        vertical-align: middle;\n",
       "    }\n",
       "\n",
       "    .dataframe tbody tr th {\n",
       "        vertical-align: top;\n",
       "    }\n",
       "\n",
       "    .dataframe thead th {\n",
       "        text-align: right;\n",
       "    }\n",
       "</style>\n",
       "<table border=\"1\" class=\"dataframe\">\n",
       "  <thead>\n",
       "    <tr style=\"text-align: right;\">\n",
       "      <th></th>\n",
       "      <th>count</th>\n",
       "      <th>mean</th>\n",
       "      <th>std</th>\n",
       "      <th>min</th>\n",
       "      <th>25%</th>\n",
       "      <th>50%</th>\n",
       "      <th>75%</th>\n",
       "      <th>max</th>\n",
       "    </tr>\n",
       "  </thead>\n",
       "  <tbody>\n",
       "    <tr>\n",
       "      <th>Id</th>\n",
       "      <td>126426.0</td>\n",
       "      <td>63213.500000</td>\n",
       "      <td>36496.186904</td>\n",
       "      <td>1.0</td>\n",
       "      <td>31607.25</td>\n",
       "      <td>63213.5</td>\n",
       "      <td>94819.75</td>\n",
       "      <td>126426.0</td>\n",
       "    </tr>\n",
       "    <tr>\n",
       "      <th>Elevation</th>\n",
       "      <td>126397.0</td>\n",
       "      <td>2923.748641</td>\n",
       "      <td>393.059379</td>\n",
       "      <td>1795.0</td>\n",
       "      <td>2582.00</td>\n",
       "      <td>2960.0</td>\n",
       "      <td>3274.00</td>\n",
       "      <td>4274.0</td>\n",
       "    </tr>\n",
       "    <tr>\n",
       "      <th>Aspect</th>\n",
       "      <td>126409.0</td>\n",
       "      <td>153.882050</td>\n",
       "      <td>109.360780</td>\n",
       "      <td>-27.0</td>\n",
       "      <td>62.00</td>\n",
       "      <td>125.0</td>\n",
       "      <td>250.00</td>\n",
       "      <td>400.0</td>\n",
       "    </tr>\n",
       "    <tr>\n",
       "      <th>Slope</th>\n",
       "      <td>126419.0</td>\n",
       "      <td>14.741257</td>\n",
       "      <td>7.873904</td>\n",
       "      <td>-2.0</td>\n",
       "      <td>9.00</td>\n",
       "      <td>14.0</td>\n",
       "      <td>19.00</td>\n",
       "      <td>64.0</td>\n",
       "    </tr>\n",
       "    <tr>\n",
       "      <th>Horizontal_Distance_To_Hydrology</th>\n",
       "      <td>126413.0</td>\n",
       "      <td>273.843719</td>\n",
       "      <td>223.151516</td>\n",
       "      <td>-47.0</td>\n",
       "      <td>115.00</td>\n",
       "      <td>216.0</td>\n",
       "      <td>364.00</td>\n",
       "      <td>1575.0</td>\n",
       "    </tr>\n",
       "    <tr>\n",
       "      <th>Vertical_Distance_To_Hydrology</th>\n",
       "      <td>126419.0</td>\n",
       "      <td>53.668808</td>\n",
       "      <td>65.299742</td>\n",
       "      <td>-298.0</td>\n",
       "      <td>7.00</td>\n",
       "      <td>35.0</td>\n",
       "      <td>80.00</td>\n",
       "      <td>608.0</td>\n",
       "    </tr>\n",
       "    <tr>\n",
       "      <th>Horizontal_Distance_To_Roadways</th>\n",
       "      <td>126419.0</td>\n",
       "      <td>1977.291238</td>\n",
       "      <td>1274.615185</td>\n",
       "      <td>-240.0</td>\n",
       "      <td>1020.00</td>\n",
       "      <td>1758.0</td>\n",
       "      <td>2641.00</td>\n",
       "      <td>7582.0</td>\n",
       "    </tr>\n",
       "    <tr>\n",
       "      <th>Hillshade_9am</th>\n",
       "      <td>126417.0</td>\n",
       "      <td>211.490013</td>\n",
       "      <td>28.432655</td>\n",
       "      <td>4.0</td>\n",
       "      <td>198.00</td>\n",
       "      <td>217.0</td>\n",
       "      <td>231.00</td>\n",
       "      <td>273.0</td>\n",
       "    </tr>\n",
       "    <tr>\n",
       "      <th>Hillshade_Noon</th>\n",
       "      <td>126417.0</td>\n",
       "      <td>222.442172</td>\n",
       "      <td>20.246966</td>\n",
       "      <td>69.0</td>\n",
       "      <td>212.00</td>\n",
       "      <td>224.0</td>\n",
       "      <td>237.00</td>\n",
       "      <td>269.0</td>\n",
       "    </tr>\n",
       "    <tr>\n",
       "      <th>Hillshade_3pm</th>\n",
       "      <td>126407.0</td>\n",
       "      <td>144.440751</td>\n",
       "      <td>38.490670</td>\n",
       "      <td>-45.0</td>\n",
       "      <td>120.00</td>\n",
       "      <td>144.0</td>\n",
       "      <td>169.00</td>\n",
       "      <td>271.0</td>\n",
       "    </tr>\n",
       "    <tr>\n",
       "      <th>Horizontal_Distance_To_Fire_Points</th>\n",
       "      <td>126416.0</td>\n",
       "      <td>1532.003837</td>\n",
       "      <td>1061.190395</td>\n",
       "      <td>-260.0</td>\n",
       "      <td>775.00</td>\n",
       "      <td>1338.0</td>\n",
       "      <td>2028.00</td>\n",
       "      <td>7966.0</td>\n",
       "    </tr>\n",
       "    <tr>\n",
       "      <th>Wilderness_Area1</th>\n",
       "      <td>126426.0</td>\n",
       "      <td>0.218919</td>\n",
       "      <td>0.413515</td>\n",
       "      <td>0.0</td>\n",
       "      <td>0.00</td>\n",
       "      <td>0.0</td>\n",
       "      <td>0.00</td>\n",
       "      <td>1.0</td>\n",
       "    </tr>\n",
       "    <tr>\n",
       "      <th>Wilderness_Area2</th>\n",
       "      <td>126426.0</td>\n",
       "      <td>0.011097</td>\n",
       "      <td>0.104758</td>\n",
       "      <td>0.0</td>\n",
       "      <td>0.00</td>\n",
       "      <td>0.0</td>\n",
       "      <td>0.00</td>\n",
       "      <td>1.0</td>\n",
       "    </tr>\n",
       "    <tr>\n",
       "      <th>Wilderness_Area3</th>\n",
       "      <td>126426.0</td>\n",
       "      <td>0.635961</td>\n",
       "      <td>0.481162</td>\n",
       "      <td>0.0</td>\n",
       "      <td>0.00</td>\n",
       "      <td>1.0</td>\n",
       "      <td>1.00</td>\n",
       "      <td>1.0</td>\n",
       "    </tr>\n",
       "    <tr>\n",
       "      <th>Wilderness_Area4</th>\n",
       "      <td>126426.0</td>\n",
       "      <td>0.139331</td>\n",
       "      <td>0.346292</td>\n",
       "      <td>0.0</td>\n",
       "      <td>0.00</td>\n",
       "      <td>0.0</td>\n",
       "      <td>0.00</td>\n",
       "      <td>1.0</td>\n",
       "    </tr>\n",
       "    <tr>\n",
       "      <th>Soil_Type1</th>\n",
       "      <td>126426.0</td>\n",
       "      <td>0.010995</td>\n",
       "      <td>0.104277</td>\n",
       "      <td>0.0</td>\n",
       "      <td>0.00</td>\n",
       "      <td>0.0</td>\n",
       "      <td>0.00</td>\n",
       "      <td>1.0</td>\n",
       "    </tr>\n",
       "    <tr>\n",
       "      <th>Soil_Type2</th>\n",
       "      <td>126426.0</td>\n",
       "      <td>0.033031</td>\n",
       "      <td>0.178719</td>\n",
       "      <td>0.0</td>\n",
       "      <td>0.00</td>\n",
       "      <td>0.0</td>\n",
       "      <td>0.00</td>\n",
       "      <td>1.0</td>\n",
       "    </tr>\n",
       "    <tr>\n",
       "      <th>Soil_Type3</th>\n",
       "      <td>126426.0</td>\n",
       "      <td>0.009057</td>\n",
       "      <td>0.094735</td>\n",
       "      <td>0.0</td>\n",
       "      <td>0.00</td>\n",
       "      <td>0.0</td>\n",
       "      <td>0.00</td>\n",
       "      <td>1.0</td>\n",
       "    </tr>\n",
       "    <tr>\n",
       "      <th>Soil_Type4</th>\n",
       "      <td>126426.0</td>\n",
       "      <td>0.029670</td>\n",
       "      <td>0.169675</td>\n",
       "      <td>0.0</td>\n",
       "      <td>0.00</td>\n",
       "      <td>0.0</td>\n",
       "      <td>0.00</td>\n",
       "      <td>1.0</td>\n",
       "    </tr>\n",
       "    <tr>\n",
       "      <th>Soil_Type5</th>\n",
       "      <td>126426.0</td>\n",
       "      <td>0.012711</td>\n",
       "      <td>0.112025</td>\n",
       "      <td>0.0</td>\n",
       "      <td>0.00</td>\n",
       "      <td>0.0</td>\n",
       "      <td>0.00</td>\n",
       "      <td>1.0</td>\n",
       "    </tr>\n",
       "    <tr>\n",
       "      <th>Soil_Type6</th>\n",
       "      <td>126426.0</td>\n",
       "      <td>0.018058</td>\n",
       "      <td>0.133162</td>\n",
       "      <td>0.0</td>\n",
       "      <td>0.00</td>\n",
       "      <td>0.0</td>\n",
       "      <td>0.00</td>\n",
       "      <td>1.0</td>\n",
       "    </tr>\n",
       "    <tr>\n",
       "      <th>Soil_Type7</th>\n",
       "      <td>126426.0</td>\n",
       "      <td>0.000000</td>\n",
       "      <td>0.000000</td>\n",
       "      <td>0.0</td>\n",
       "      <td>0.00</td>\n",
       "      <td>0.0</td>\n",
       "      <td>0.00</td>\n",
       "      <td>0.0</td>\n",
       "    </tr>\n",
       "    <tr>\n",
       "      <th>Soil_Type8</th>\n",
       "      <td>126426.0</td>\n",
       "      <td>0.002840</td>\n",
       "      <td>0.053212</td>\n",
       "      <td>0.0</td>\n",
       "      <td>0.00</td>\n",
       "      <td>0.0</td>\n",
       "      <td>0.00</td>\n",
       "      <td>1.0</td>\n",
       "    </tr>\n",
       "    <tr>\n",
       "      <th>Soil_Type9</th>\n",
       "      <td>126426.0</td>\n",
       "      <td>0.009239</td>\n",
       "      <td>0.095673</td>\n",
       "      <td>0.0</td>\n",
       "      <td>0.00</td>\n",
       "      <td>0.0</td>\n",
       "      <td>0.00</td>\n",
       "      <td>1.0</td>\n",
       "    </tr>\n",
       "    <tr>\n",
       "      <th>Soil_Type10</th>\n",
       "      <td>126426.0</td>\n",
       "      <td>0.074399</td>\n",
       "      <td>0.262421</td>\n",
       "      <td>0.0</td>\n",
       "      <td>0.00</td>\n",
       "      <td>0.0</td>\n",
       "      <td>0.00</td>\n",
       "      <td>1.0</td>\n",
       "    </tr>\n",
       "    <tr>\n",
       "      <th>Soil_Type11</th>\n",
       "      <td>126426.0</td>\n",
       "      <td>0.025984</td>\n",
       "      <td>0.159087</td>\n",
       "      <td>0.0</td>\n",
       "      <td>0.00</td>\n",
       "      <td>0.0</td>\n",
       "      <td>0.00</td>\n",
       "      <td>1.0</td>\n",
       "    </tr>\n",
       "    <tr>\n",
       "      <th>Soil_Type12</th>\n",
       "      <td>126426.0</td>\n",
       "      <td>0.012711</td>\n",
       "      <td>0.112025</td>\n",
       "      <td>0.0</td>\n",
       "      <td>0.00</td>\n",
       "      <td>0.0</td>\n",
       "      <td>0.00</td>\n",
       "      <td>1.0</td>\n",
       "    </tr>\n",
       "    <tr>\n",
       "      <th>Soil_Type13</th>\n",
       "      <td>126426.0</td>\n",
       "      <td>0.025651</td>\n",
       "      <td>0.158094</td>\n",
       "      <td>0.0</td>\n",
       "      <td>0.00</td>\n",
       "      <td>0.0</td>\n",
       "      <td>0.00</td>\n",
       "      <td>1.0</td>\n",
       "    </tr>\n",
       "    <tr>\n",
       "      <th>Soil_Type14</th>\n",
       "      <td>126426.0</td>\n",
       "      <td>0.009302</td>\n",
       "      <td>0.095997</td>\n",
       "      <td>0.0</td>\n",
       "      <td>0.00</td>\n",
       "      <td>0.0</td>\n",
       "      <td>0.00</td>\n",
       "      <td>1.0</td>\n",
       "    </tr>\n",
       "    <tr>\n",
       "      <th>Soil_Type15</th>\n",
       "      <td>126426.0</td>\n",
       "      <td>0.000000</td>\n",
       "      <td>0.000000</td>\n",
       "      <td>0.0</td>\n",
       "      <td>0.00</td>\n",
       "      <td>0.0</td>\n",
       "      <td>0.00</td>\n",
       "      <td>0.0</td>\n",
       "    </tr>\n",
       "    <tr>\n",
       "      <th>Soil_Type16</th>\n",
       "      <td>126426.0</td>\n",
       "      <td>0.014135</td>\n",
       "      <td>0.118047</td>\n",
       "      <td>0.0</td>\n",
       "      <td>0.00</td>\n",
       "      <td>0.0</td>\n",
       "      <td>0.00</td>\n",
       "      <td>1.0</td>\n",
       "    </tr>\n",
       "    <tr>\n",
       "      <th>Soil_Type17</th>\n",
       "      <td>126426.0</td>\n",
       "      <td>0.005869</td>\n",
       "      <td>0.076385</td>\n",
       "      <td>0.0</td>\n",
       "      <td>0.00</td>\n",
       "      <td>0.0</td>\n",
       "      <td>0.00</td>\n",
       "      <td>1.0</td>\n",
       "    </tr>\n",
       "    <tr>\n",
       "      <th>Soil_Type18</th>\n",
       "      <td>126426.0</td>\n",
       "      <td>0.010939</td>\n",
       "      <td>0.104017</td>\n",
       "      <td>0.0</td>\n",
       "      <td>0.00</td>\n",
       "      <td>0.0</td>\n",
       "      <td>0.00</td>\n",
       "      <td>1.0</td>\n",
       "    </tr>\n",
       "    <tr>\n",
       "      <th>Soil_Type19</th>\n",
       "      <td>126426.0</td>\n",
       "      <td>0.012798</td>\n",
       "      <td>0.112402</td>\n",
       "      <td>0.0</td>\n",
       "      <td>0.00</td>\n",
       "      <td>0.0</td>\n",
       "      <td>0.00</td>\n",
       "      <td>1.0</td>\n",
       "    </tr>\n",
       "    <tr>\n",
       "      <th>Soil_Type20</th>\n",
       "      <td>126426.0</td>\n",
       "      <td>0.016120</td>\n",
       "      <td>0.125938</td>\n",
       "      <td>0.0</td>\n",
       "      <td>0.00</td>\n",
       "      <td>0.0</td>\n",
       "      <td>0.00</td>\n",
       "      <td>1.0</td>\n",
       "    </tr>\n",
       "    <tr>\n",
       "      <th>Soil_Type21</th>\n",
       "      <td>126426.0</td>\n",
       "      <td>0.011089</td>\n",
       "      <td>0.104722</td>\n",
       "      <td>0.0</td>\n",
       "      <td>0.00</td>\n",
       "      <td>0.0</td>\n",
       "      <td>0.00</td>\n",
       "      <td>1.0</td>\n",
       "    </tr>\n",
       "    <tr>\n",
       "      <th>Soil_Type22</th>\n",
       "      <td>126426.0</td>\n",
       "      <td>0.027787</td>\n",
       "      <td>0.164363</td>\n",
       "      <td>0.0</td>\n",
       "      <td>0.00</td>\n",
       "      <td>0.0</td>\n",
       "      <td>0.00</td>\n",
       "      <td>1.0</td>\n",
       "    </tr>\n",
       "    <tr>\n",
       "      <th>Soil_Type23</th>\n",
       "      <td>126426.0</td>\n",
       "      <td>0.046628</td>\n",
       "      <td>0.210842</td>\n",
       "      <td>0.0</td>\n",
       "      <td>0.00</td>\n",
       "      <td>0.0</td>\n",
       "      <td>0.00</td>\n",
       "      <td>1.0</td>\n",
       "    </tr>\n",
       "    <tr>\n",
       "      <th>Soil_Type24</th>\n",
       "      <td>126426.0</td>\n",
       "      <td>0.026221</td>\n",
       "      <td>0.159792</td>\n",
       "      <td>0.0</td>\n",
       "      <td>0.00</td>\n",
       "      <td>0.0</td>\n",
       "      <td>0.00</td>\n",
       "      <td>1.0</td>\n",
       "    </tr>\n",
       "    <tr>\n",
       "      <th>Soil_Type25</th>\n",
       "      <td>126426.0</td>\n",
       "      <td>0.003385</td>\n",
       "      <td>0.058086</td>\n",
       "      <td>0.0</td>\n",
       "      <td>0.00</td>\n",
       "      <td>0.0</td>\n",
       "      <td>0.00</td>\n",
       "      <td>1.0</td>\n",
       "    </tr>\n",
       "    <tr>\n",
       "      <th>Soil_Type26</th>\n",
       "      <td>126426.0</td>\n",
       "      <td>0.013012</td>\n",
       "      <td>0.113324</td>\n",
       "      <td>0.0</td>\n",
       "      <td>0.00</td>\n",
       "      <td>0.0</td>\n",
       "      <td>0.00</td>\n",
       "      <td>1.0</td>\n",
       "    </tr>\n",
       "    <tr>\n",
       "      <th>Soil_Type27</th>\n",
       "      <td>126426.0</td>\n",
       "      <td>0.011074</td>\n",
       "      <td>0.104648</td>\n",
       "      <td>0.0</td>\n",
       "      <td>0.00</td>\n",
       "      <td>0.0</td>\n",
       "      <td>0.00</td>\n",
       "      <td>1.0</td>\n",
       "    </tr>\n",
       "    <tr>\n",
       "      <th>Soil_Type28</th>\n",
       "      <td>126426.0</td>\n",
       "      <td>0.010030</td>\n",
       "      <td>0.099645</td>\n",
       "      <td>0.0</td>\n",
       "      <td>0.00</td>\n",
       "      <td>0.0</td>\n",
       "      <td>0.00</td>\n",
       "      <td>1.0</td>\n",
       "    </tr>\n",
       "    <tr>\n",
       "      <th>Soil_Type29</th>\n",
       "      <td>126426.0</td>\n",
       "      <td>0.049705</td>\n",
       "      <td>0.217336</td>\n",
       "      <td>0.0</td>\n",
       "      <td>0.00</td>\n",
       "      <td>0.0</td>\n",
       "      <td>0.00</td>\n",
       "      <td>1.0</td>\n",
       "    </tr>\n",
       "    <tr>\n",
       "      <th>Soil_Type30</th>\n",
       "      <td>126426.0</td>\n",
       "      <td>0.016484</td>\n",
       "      <td>0.127328</td>\n",
       "      <td>0.0</td>\n",
       "      <td>0.00</td>\n",
       "      <td>0.0</td>\n",
       "      <td>0.00</td>\n",
       "      <td>1.0</td>\n",
       "    </tr>\n",
       "    <tr>\n",
       "      <th>Soil_Type31</th>\n",
       "      <td>126426.0</td>\n",
       "      <td>0.041226</td>\n",
       "      <td>0.198813</td>\n",
       "      <td>0.0</td>\n",
       "      <td>0.00</td>\n",
       "      <td>0.0</td>\n",
       "      <td>0.00</td>\n",
       "      <td>1.0</td>\n",
       "    </tr>\n",
       "    <tr>\n",
       "      <th>Soil_Type32</th>\n",
       "      <td>126426.0</td>\n",
       "      <td>0.065786</td>\n",
       "      <td>0.247908</td>\n",
       "      <td>0.0</td>\n",
       "      <td>0.00</td>\n",
       "      <td>0.0</td>\n",
       "      <td>0.00</td>\n",
       "      <td>1.0</td>\n",
       "    </tr>\n",
       "    <tr>\n",
       "      <th>Soil_Type33</th>\n",
       "      <td>126426.0</td>\n",
       "      <td>0.065445</td>\n",
       "      <td>0.247311</td>\n",
       "      <td>0.0</td>\n",
       "      <td>0.00</td>\n",
       "      <td>0.0</td>\n",
       "      <td>0.00</td>\n",
       "      <td>1.0</td>\n",
       "    </tr>\n",
       "    <tr>\n",
       "      <th>Soil_Type34</th>\n",
       "      <td>126426.0</td>\n",
       "      <td>0.012822</td>\n",
       "      <td>0.112505</td>\n",
       "      <td>0.0</td>\n",
       "      <td>0.00</td>\n",
       "      <td>0.0</td>\n",
       "      <td>0.00</td>\n",
       "      <td>1.0</td>\n",
       "    </tr>\n",
       "    <tr>\n",
       "      <th>Soil_Type35</th>\n",
       "      <td>126426.0</td>\n",
       "      <td>0.021135</td>\n",
       "      <td>0.143835</td>\n",
       "      <td>0.0</td>\n",
       "      <td>0.00</td>\n",
       "      <td>0.0</td>\n",
       "      <td>0.00</td>\n",
       "      <td>1.0</td>\n",
       "    </tr>\n",
       "    <tr>\n",
       "      <th>Soil_Type36</th>\n",
       "      <td>126426.0</td>\n",
       "      <td>0.012458</td>\n",
       "      <td>0.110918</td>\n",
       "      <td>0.0</td>\n",
       "      <td>0.00</td>\n",
       "      <td>0.0</td>\n",
       "      <td>0.00</td>\n",
       "      <td>1.0</td>\n",
       "    </tr>\n",
       "    <tr>\n",
       "      <th>Soil_Type37</th>\n",
       "      <td>126426.0</td>\n",
       "      <td>0.014570</td>\n",
       "      <td>0.119823</td>\n",
       "      <td>0.0</td>\n",
       "      <td>0.00</td>\n",
       "      <td>0.0</td>\n",
       "      <td>0.00</td>\n",
       "      <td>1.0</td>\n",
       "    </tr>\n",
       "    <tr>\n",
       "      <th>Soil_Type38</th>\n",
       "      <td>126426.0</td>\n",
       "      <td>0.053565</td>\n",
       "      <td>0.225158</td>\n",
       "      <td>0.0</td>\n",
       "      <td>0.00</td>\n",
       "      <td>0.0</td>\n",
       "      <td>0.00</td>\n",
       "      <td>1.0</td>\n",
       "    </tr>\n",
       "    <tr>\n",
       "      <th>Soil_Type39</th>\n",
       "      <td>126426.0</td>\n",
       "      <td>0.076654</td>\n",
       "      <td>0.266042</td>\n",
       "      <td>0.0</td>\n",
       "      <td>0.00</td>\n",
       "      <td>0.0</td>\n",
       "      <td>0.00</td>\n",
       "      <td>1.0</td>\n",
       "    </tr>\n",
       "    <tr>\n",
       "      <th>Soil_Type40</th>\n",
       "      <td>126426.0</td>\n",
       "      <td>0.047443</td>\n",
       "      <td>0.212585</td>\n",
       "      <td>0.0</td>\n",
       "      <td>0.00</td>\n",
       "      <td>0.0</td>\n",
       "      <td>0.00</td>\n",
       "      <td>1.0</td>\n",
       "    </tr>\n",
       "    <tr>\n",
       "      <th>Cover_Type</th>\n",
       "      <td>126426.0</td>\n",
       "      <td>3.350229</td>\n",
       "      <td>2.245249</td>\n",
       "      <td>1.0</td>\n",
       "      <td>2.00</td>\n",
       "      <td>3.0</td>\n",
       "      <td>6.00</td>\n",
       "      <td>7.0</td>\n",
       "    </tr>\n",
       "  </tbody>\n",
       "</table>\n",
       "</div>"
      ],
      "text/plain": [
       "                                       count          mean           std  \\\n",
       "Id                                  126426.0  63213.500000  36496.186904   \n",
       "Elevation                           126397.0   2923.748641    393.059379   \n",
       "Aspect                              126409.0    153.882050    109.360780   \n",
       "Slope                               126419.0     14.741257      7.873904   \n",
       "Horizontal_Distance_To_Hydrology    126413.0    273.843719    223.151516   \n",
       "Vertical_Distance_To_Hydrology      126419.0     53.668808     65.299742   \n",
       "Horizontal_Distance_To_Roadways     126419.0   1977.291238   1274.615185   \n",
       "Hillshade_9am                       126417.0    211.490013     28.432655   \n",
       "Hillshade_Noon                      126417.0    222.442172     20.246966   \n",
       "Hillshade_3pm                       126407.0    144.440751     38.490670   \n",
       "Horizontal_Distance_To_Fire_Points  126416.0   1532.003837   1061.190395   \n",
       "Wilderness_Area1                    126426.0      0.218919      0.413515   \n",
       "Wilderness_Area2                    126426.0      0.011097      0.104758   \n",
       "Wilderness_Area3                    126426.0      0.635961      0.481162   \n",
       "Wilderness_Area4                    126426.0      0.139331      0.346292   \n",
       "Soil_Type1                          126426.0      0.010995      0.104277   \n",
       "Soil_Type2                          126426.0      0.033031      0.178719   \n",
       "Soil_Type3                          126426.0      0.009057      0.094735   \n",
       "Soil_Type4                          126426.0      0.029670      0.169675   \n",
       "Soil_Type5                          126426.0      0.012711      0.112025   \n",
       "Soil_Type6                          126426.0      0.018058      0.133162   \n",
       "Soil_Type7                          126426.0      0.000000      0.000000   \n",
       "Soil_Type8                          126426.0      0.002840      0.053212   \n",
       "Soil_Type9                          126426.0      0.009239      0.095673   \n",
       "Soil_Type10                         126426.0      0.074399      0.262421   \n",
       "Soil_Type11                         126426.0      0.025984      0.159087   \n",
       "Soil_Type12                         126426.0      0.012711      0.112025   \n",
       "Soil_Type13                         126426.0      0.025651      0.158094   \n",
       "Soil_Type14                         126426.0      0.009302      0.095997   \n",
       "Soil_Type15                         126426.0      0.000000      0.000000   \n",
       "Soil_Type16                         126426.0      0.014135      0.118047   \n",
       "Soil_Type17                         126426.0      0.005869      0.076385   \n",
       "Soil_Type18                         126426.0      0.010939      0.104017   \n",
       "Soil_Type19                         126426.0      0.012798      0.112402   \n",
       "Soil_Type20                         126426.0      0.016120      0.125938   \n",
       "Soil_Type21                         126426.0      0.011089      0.104722   \n",
       "Soil_Type22                         126426.0      0.027787      0.164363   \n",
       "Soil_Type23                         126426.0      0.046628      0.210842   \n",
       "Soil_Type24                         126426.0      0.026221      0.159792   \n",
       "Soil_Type25                         126426.0      0.003385      0.058086   \n",
       "Soil_Type26                         126426.0      0.013012      0.113324   \n",
       "Soil_Type27                         126426.0      0.011074      0.104648   \n",
       "Soil_Type28                         126426.0      0.010030      0.099645   \n",
       "Soil_Type29                         126426.0      0.049705      0.217336   \n",
       "Soil_Type30                         126426.0      0.016484      0.127328   \n",
       "Soil_Type31                         126426.0      0.041226      0.198813   \n",
       "Soil_Type32                         126426.0      0.065786      0.247908   \n",
       "Soil_Type33                         126426.0      0.065445      0.247311   \n",
       "Soil_Type34                         126426.0      0.012822      0.112505   \n",
       "Soil_Type35                         126426.0      0.021135      0.143835   \n",
       "Soil_Type36                         126426.0      0.012458      0.110918   \n",
       "Soil_Type37                         126426.0      0.014570      0.119823   \n",
       "Soil_Type38                         126426.0      0.053565      0.225158   \n",
       "Soil_Type39                         126426.0      0.076654      0.266042   \n",
       "Soil_Type40                         126426.0      0.047443      0.212585   \n",
       "Cover_Type                          126426.0      3.350229      2.245249   \n",
       "\n",
       "                                       min       25%      50%       75%  \\\n",
       "Id                                     1.0  31607.25  63213.5  94819.75   \n",
       "Elevation                           1795.0   2582.00   2960.0   3274.00   \n",
       "Aspect                               -27.0     62.00    125.0    250.00   \n",
       "Slope                                 -2.0      9.00     14.0     19.00   \n",
       "Horizontal_Distance_To_Hydrology     -47.0    115.00    216.0    364.00   \n",
       "Vertical_Distance_To_Hydrology      -298.0      7.00     35.0     80.00   \n",
       "Horizontal_Distance_To_Roadways     -240.0   1020.00   1758.0   2641.00   \n",
       "Hillshade_9am                          4.0    198.00    217.0    231.00   \n",
       "Hillshade_Noon                        69.0    212.00    224.0    237.00   \n",
       "Hillshade_3pm                        -45.0    120.00    144.0    169.00   \n",
       "Horizontal_Distance_To_Fire_Points  -260.0    775.00   1338.0   2028.00   \n",
       "Wilderness_Area1                       0.0      0.00      0.0      0.00   \n",
       "Wilderness_Area2                       0.0      0.00      0.0      0.00   \n",
       "Wilderness_Area3                       0.0      0.00      1.0      1.00   \n",
       "Wilderness_Area4                       0.0      0.00      0.0      0.00   \n",
       "Soil_Type1                             0.0      0.00      0.0      0.00   \n",
       "Soil_Type2                             0.0      0.00      0.0      0.00   \n",
       "Soil_Type3                             0.0      0.00      0.0      0.00   \n",
       "Soil_Type4                             0.0      0.00      0.0      0.00   \n",
       "Soil_Type5                             0.0      0.00      0.0      0.00   \n",
       "Soil_Type6                             0.0      0.00      0.0      0.00   \n",
       "Soil_Type7                             0.0      0.00      0.0      0.00   \n",
       "Soil_Type8                             0.0      0.00      0.0      0.00   \n",
       "Soil_Type9                             0.0      0.00      0.0      0.00   \n",
       "Soil_Type10                            0.0      0.00      0.0      0.00   \n",
       "Soil_Type11                            0.0      0.00      0.0      0.00   \n",
       "Soil_Type12                            0.0      0.00      0.0      0.00   \n",
       "Soil_Type13                            0.0      0.00      0.0      0.00   \n",
       "Soil_Type14                            0.0      0.00      0.0      0.00   \n",
       "Soil_Type15                            0.0      0.00      0.0      0.00   \n",
       "Soil_Type16                            0.0      0.00      0.0      0.00   \n",
       "Soil_Type17                            0.0      0.00      0.0      0.00   \n",
       "Soil_Type18                            0.0      0.00      0.0      0.00   \n",
       "Soil_Type19                            0.0      0.00      0.0      0.00   \n",
       "Soil_Type20                            0.0      0.00      0.0      0.00   \n",
       "Soil_Type21                            0.0      0.00      0.0      0.00   \n",
       "Soil_Type22                            0.0      0.00      0.0      0.00   \n",
       "Soil_Type23                            0.0      0.00      0.0      0.00   \n",
       "Soil_Type24                            0.0      0.00      0.0      0.00   \n",
       "Soil_Type25                            0.0      0.00      0.0      0.00   \n",
       "Soil_Type26                            0.0      0.00      0.0      0.00   \n",
       "Soil_Type27                            0.0      0.00      0.0      0.00   \n",
       "Soil_Type28                            0.0      0.00      0.0      0.00   \n",
       "Soil_Type29                            0.0      0.00      0.0      0.00   \n",
       "Soil_Type30                            0.0      0.00      0.0      0.00   \n",
       "Soil_Type31                            0.0      0.00      0.0      0.00   \n",
       "Soil_Type32                            0.0      0.00      0.0      0.00   \n",
       "Soil_Type33                            0.0      0.00      0.0      0.00   \n",
       "Soil_Type34                            0.0      0.00      0.0      0.00   \n",
       "Soil_Type35                            0.0      0.00      0.0      0.00   \n",
       "Soil_Type36                            0.0      0.00      0.0      0.00   \n",
       "Soil_Type37                            0.0      0.00      0.0      0.00   \n",
       "Soil_Type38                            0.0      0.00      0.0      0.00   \n",
       "Soil_Type39                            0.0      0.00      0.0      0.00   \n",
       "Soil_Type40                            0.0      0.00      0.0      0.00   \n",
       "Cover_Type                             1.0      2.00      3.0      6.00   \n",
       "\n",
       "                                         max  \n",
       "Id                                  126426.0  \n",
       "Elevation                             4274.0  \n",
       "Aspect                                 400.0  \n",
       "Slope                                   64.0  \n",
       "Horizontal_Distance_To_Hydrology      1575.0  \n",
       "Vertical_Distance_To_Hydrology         608.0  \n",
       "Horizontal_Distance_To_Roadways       7582.0  \n",
       "Hillshade_9am                          273.0  \n",
       "Hillshade_Noon                         269.0  \n",
       "Hillshade_3pm                          271.0  \n",
       "Horizontal_Distance_To_Fire_Points    7966.0  \n",
       "Wilderness_Area1                         1.0  \n",
       "Wilderness_Area2                         1.0  \n",
       "Wilderness_Area3                         1.0  \n",
       "Wilderness_Area4                         1.0  \n",
       "Soil_Type1                               1.0  \n",
       "Soil_Type2                               1.0  \n",
       "Soil_Type3                               1.0  \n",
       "Soil_Type4                               1.0  \n",
       "Soil_Type5                               1.0  \n",
       "Soil_Type6                               1.0  \n",
       "Soil_Type7                               0.0  \n",
       "Soil_Type8                               1.0  \n",
       "Soil_Type9                               1.0  \n",
       "Soil_Type10                              1.0  \n",
       "Soil_Type11                              1.0  \n",
       "Soil_Type12                              1.0  \n",
       "Soil_Type13                              1.0  \n",
       "Soil_Type14                              1.0  \n",
       "Soil_Type15                              0.0  \n",
       "Soil_Type16                              1.0  \n",
       "Soil_Type17                              1.0  \n",
       "Soil_Type18                              1.0  \n",
       "Soil_Type19                              1.0  \n",
       "Soil_Type20                              1.0  \n",
       "Soil_Type21                              1.0  \n",
       "Soil_Type22                              1.0  \n",
       "Soil_Type23                              1.0  \n",
       "Soil_Type24                              1.0  \n",
       "Soil_Type25                              1.0  \n",
       "Soil_Type26                              1.0  \n",
       "Soil_Type27                              1.0  \n",
       "Soil_Type28                              1.0  \n",
       "Soil_Type29                              1.0  \n",
       "Soil_Type30                              1.0  \n",
       "Soil_Type31                              1.0  \n",
       "Soil_Type32                              1.0  \n",
       "Soil_Type33                              1.0  \n",
       "Soil_Type34                              1.0  \n",
       "Soil_Type35                              1.0  \n",
       "Soil_Type36                              1.0  \n",
       "Soil_Type37                              1.0  \n",
       "Soil_Type38                              1.0  \n",
       "Soil_Type39                              1.0  \n",
       "Soil_Type40                              1.0  \n",
       "Cover_Type                               7.0  "
      ]
     },
     "execution_count": 23,
     "metadata": {},
     "output_type": "execute_result"
    }
   ],
   "source": [
    "df.describe().T#veri seti betimleme\n",
    "#eksik gözlemleri gözardı edip kategorik değişkenleri dışarda bırakır"
   ]
  },
  {
   "cell_type": "code",
   "execution_count": 36,
   "id": "0384ab29",
   "metadata": {},
   "outputs": [
    {
     "data": {
      "text/plain": [
       "Id                                    63213.5\n",
       "Elevation                              2960.0\n",
       "Aspect                                  125.0\n",
       "Slope                                    14.0\n",
       "Horizontal_Distance_To_Hydrology        216.0\n",
       "Vertical_Distance_To_Hydrology           35.0\n",
       "Horizontal_Distance_To_Roadways        1758.0\n",
       "Hillshade_9am                           217.0\n",
       "Hillshade_Noon                          224.0\n",
       "Hillshade_3pm                           144.0\n",
       "Horizontal_Distance_To_Fire_Points     1338.0\n",
       "Wilderness_Area1                          0.0\n",
       "Wilderness_Area2                          0.0\n",
       "Wilderness_Area3                          1.0\n",
       "Wilderness_Area4                          0.0\n",
       "Soil_Type1                                0.0\n",
       "Soil_Type2                                0.0\n",
       "Soil_Type3                                0.0\n",
       "Soil_Type4                                0.0\n",
       "Soil_Type5                                0.0\n",
       "Soil_Type6                                0.0\n",
       "Soil_Type7                                0.0\n",
       "Soil_Type8                                0.0\n",
       "Soil_Type9                                0.0\n",
       "Soil_Type10                               0.0\n",
       "Soil_Type11                               0.0\n",
       "Soil_Type12                               0.0\n",
       "Soil_Type13                               0.0\n",
       "Soil_Type14                               0.0\n",
       "Soil_Type15                               0.0\n",
       "Soil_Type16                               0.0\n",
       "Soil_Type17                               0.0\n",
       "Soil_Type18                               0.0\n",
       "Soil_Type19                               0.0\n",
       "Soil_Type20                               0.0\n",
       "Soil_Type21                               0.0\n",
       "Soil_Type22                               0.0\n",
       "Soil_Type23                               0.0\n",
       "Soil_Type24                               0.0\n",
       "Soil_Type25                               0.0\n",
       "Soil_Type26                               0.0\n",
       "Soil_Type27                               0.0\n",
       "Soil_Type28                               0.0\n",
       "Soil_Type29                               0.0\n",
       "Soil_Type30                               0.0\n",
       "Soil_Type31                               0.0\n",
       "Soil_Type32                               0.0\n",
       "Soil_Type33                               0.0\n",
       "Soil_Type34                               0.0\n",
       "Soil_Type35                               0.0\n",
       "Soil_Type36                               0.0\n",
       "Soil_Type37                               0.0\n",
       "Soil_Type38                               0.0\n",
       "Soil_Type39                               0.0\n",
       "Soil_Type40                               0.0\n",
       "Cover_Type                                3.0\n",
       "dtype: float64"
      ]
     },
     "execution_count": 36,
     "metadata": {},
     "output_type": "execute_result"
    }
   ],
   "source": [
    "df.median()"
   ]
  },
  {
   "cell_type": "code",
   "execution_count": 327,
   "id": "2cc1cbd8",
   "metadata": {},
   "outputs": [
    {
     "name": "stdout",
     "output_type": "stream",
     "text": [
      "elevation0    0.646228\n",
      "dtype: float64\n",
      "aspect0    0.063232\n",
      "dtype: float64\n",
      "Slope0    0.227273\n",
      "dtype: float64\n",
      "Horizontal_Distance_To_Hydrology0    0.047472\n",
      "dtype: float64\n",
      "Vertical_Distance_To_Hydrology0    0.535784\n",
      "dtype: float64\n",
      "Horizontal_Distance_To_Roadways0    0.188059\n",
      "dtype: float64\n",
      "Hillshade_9am0    0.825279\n",
      "dtype: float64\n",
      "Hillshade_Noon0    0.78\n",
      "dtype: float64\n",
      "Hillshade_3pm0    0.60443\n",
      "dtype: float64\n",
      "Horizontal_Distance_To_Fire_Points 0    0.171651\n",
      "dtype: float64\n"
     ]
    }
   ],
   "source": [
    "print(\"elevation\"+str(df['Elevation'].mode()))\n",
    "print(\"aspect\"+str(df['Aspect'].mode()))\n",
    "print(\"Slope\"+str(df['Slope'].mode()))\n",
    "print(\"Horizontal_Distance_To_Hydrology\"+str(df['Horizontal_Distance_To_Hydrology'].mode()))\n",
    "print(\"Vertical_Distance_To_Hydrology\"+str(df['Vertical_Distance_To_Hydrology'].mode()))\n",
    "print(\"Horizontal_Distance_To_Roadways\"+str(df['Horizontal_Distance_To_Roadways'].mode()))\n",
    "print(\"Hillshade_9am\"+str(df['Hillshade_9am'].mode()))\n",
    "print(\"Hillshade_Noon\"+str(df['Hillshade_Noon'].mode()))\n",
    "print(\"Hillshade_3pm\"+str(df['Hillshade_3pm'].mode()))\n",
    "print(\"Horizontal_Distance_To_Fire_Points \"+str(df['Horizontal_Distance_To_Fire_Points'].mode()))"
   ]
  },
  {
   "cell_type": "code",
   "execution_count": 42,
   "id": "e338e8c8",
   "metadata": {},
   "outputs": [
    {
     "data": {
      "text/html": [
       "<div>\n",
       "<style scoped>\n",
       "    .dataframe tbody tr th:only-of-type {\n",
       "        vertical-align: middle;\n",
       "    }\n",
       "\n",
       "    .dataframe tbody tr th {\n",
       "        vertical-align: top;\n",
       "    }\n",
       "\n",
       "    .dataframe thead th {\n",
       "        text-align: right;\n",
       "    }\n",
       "</style>\n",
       "<table border=\"1\" class=\"dataframe\">\n",
       "  <thead>\n",
       "    <tr style=\"text-align: right;\">\n",
       "      <th></th>\n",
       "    </tr>\n",
       "  </thead>\n",
       "  <tbody>\n",
       "    <tr>\n",
       "      <th>0</th>\n",
       "    </tr>\n",
       "    <tr>\n",
       "      <th>1</th>\n",
       "    </tr>\n",
       "    <tr>\n",
       "      <th>2</th>\n",
       "    </tr>\n",
       "    <tr>\n",
       "      <th>3</th>\n",
       "    </tr>\n",
       "    <tr>\n",
       "      <th>4</th>\n",
       "    </tr>\n",
       "  </tbody>\n",
       "</table>\n",
       "</div>"
      ],
      "text/plain": [
       "Empty DataFrame\n",
       "Columns: []\n",
       "Index: [0, 1, 2, 3, 4]"
      ]
     },
     "execution_count": 42,
     "metadata": {},
     "output_type": "execute_result"
    }
   ],
   "source": [
    "df_kat=df.select_dtypes(include=[\"object\"])\n",
    "df_kat.head()#kategorik değişken yokmuş"
   ]
  },
  {
   "cell_type": "code",
   "execution_count": 44,
   "id": "ff341ecd",
   "metadata": {},
   "outputs": [
    {
     "data": {
      "text/html": [
       "<div>\n",
       "<style scoped>\n",
       "    .dataframe tbody tr th:only-of-type {\n",
       "        vertical-align: middle;\n",
       "    }\n",
       "\n",
       "    .dataframe tbody tr th {\n",
       "        vertical-align: top;\n",
       "    }\n",
       "\n",
       "    .dataframe thead th {\n",
       "        text-align: right;\n",
       "    }\n",
       "</style>\n",
       "<table border=\"1\" class=\"dataframe\">\n",
       "  <thead>\n",
       "    <tr style=\"text-align: right;\">\n",
       "      <th></th>\n",
       "      <th>Id</th>\n",
       "      <th>Elevation</th>\n",
       "      <th>Aspect</th>\n",
       "      <th>Slope</th>\n",
       "      <th>Horizontal_Distance_To_Hydrology</th>\n",
       "      <th>Vertical_Distance_To_Hydrology</th>\n",
       "      <th>Horizontal_Distance_To_Roadways</th>\n",
       "      <th>Hillshade_9am</th>\n",
       "      <th>Hillshade_Noon</th>\n",
       "      <th>Hillshade_3pm</th>\n",
       "      <th>...</th>\n",
       "      <th>Soil_Type32</th>\n",
       "      <th>Soil_Type33</th>\n",
       "      <th>Soil_Type34</th>\n",
       "      <th>Soil_Type35</th>\n",
       "      <th>Soil_Type36</th>\n",
       "      <th>Soil_Type37</th>\n",
       "      <th>Soil_Type38</th>\n",
       "      <th>Soil_Type39</th>\n",
       "      <th>Soil_Type40</th>\n",
       "      <th>Cover_Type</th>\n",
       "    </tr>\n",
       "  </thead>\n",
       "  <tbody>\n",
       "    <tr>\n",
       "      <th>0</th>\n",
       "      <td>1</td>\n",
       "      <td>3317.0</td>\n",
       "      <td>131.0</td>\n",
       "      <td>20.0</td>\n",
       "      <td>232.0</td>\n",
       "      <td>21.0</td>\n",
       "      <td>1762.0</td>\n",
       "      <td>237.0</td>\n",
       "      <td>195.0</td>\n",
       "      <td>136.0</td>\n",
       "      <td>...</td>\n",
       "      <td>1</td>\n",
       "      <td>0</td>\n",
       "      <td>0</td>\n",
       "      <td>0</td>\n",
       "      <td>0</td>\n",
       "      <td>0</td>\n",
       "      <td>0</td>\n",
       "      <td>0</td>\n",
       "      <td>0</td>\n",
       "      <td>1</td>\n",
       "    </tr>\n",
       "    <tr>\n",
       "      <th>1</th>\n",
       "      <td>2</td>\n",
       "      <td>3221.0</td>\n",
       "      <td>243.0</td>\n",
       "      <td>7.0</td>\n",
       "      <td>163.0</td>\n",
       "      <td>161.0</td>\n",
       "      <td>2153.0</td>\n",
       "      <td>196.0</td>\n",
       "      <td>222.0</td>\n",
       "      <td>131.0</td>\n",
       "      <td>...</td>\n",
       "      <td>0</td>\n",
       "      <td>0</td>\n",
       "      <td>0</td>\n",
       "      <td>1</td>\n",
       "      <td>0</td>\n",
       "      <td>0</td>\n",
       "      <td>0</td>\n",
       "      <td>0</td>\n",
       "      <td>0</td>\n",
       "      <td>1</td>\n",
       "    </tr>\n",
       "    <tr>\n",
       "      <th>2</th>\n",
       "      <td>3</td>\n",
       "      <td>3156.0</td>\n",
       "      <td>305.0</td>\n",
       "      <td>12.0</td>\n",
       "      <td>183.0</td>\n",
       "      <td>5.0</td>\n",
       "      <td>2769.0</td>\n",
       "      <td>240.0</td>\n",
       "      <td>253.0</td>\n",
       "      <td>235.0</td>\n",
       "      <td>...</td>\n",
       "      <td>1</td>\n",
       "      <td>0</td>\n",
       "      <td>0</td>\n",
       "      <td>0</td>\n",
       "      <td>0</td>\n",
       "      <td>0</td>\n",
       "      <td>0</td>\n",
       "      <td>0</td>\n",
       "      <td>0</td>\n",
       "      <td>1</td>\n",
       "    </tr>\n",
       "    <tr>\n",
       "      <th>3</th>\n",
       "      <td>4</td>\n",
       "      <td>3157.0</td>\n",
       "      <td>135.0</td>\n",
       "      <td>10.0</td>\n",
       "      <td>68.0</td>\n",
       "      <td>55.0</td>\n",
       "      <td>1641.0</td>\n",
       "      <td>227.0</td>\n",
       "      <td>253.0</td>\n",
       "      <td>159.0</td>\n",
       "      <td>...</td>\n",
       "      <td>1</td>\n",
       "      <td>0</td>\n",
       "      <td>0</td>\n",
       "      <td>0</td>\n",
       "      <td>0</td>\n",
       "      <td>0</td>\n",
       "      <td>0</td>\n",
       "      <td>0</td>\n",
       "      <td>0</td>\n",
       "      <td>1</td>\n",
       "    </tr>\n",
       "    <tr>\n",
       "      <th>4</th>\n",
       "      <td>5</td>\n",
       "      <td>3209.0</td>\n",
       "      <td>292.0</td>\n",
       "      <td>2.0</td>\n",
       "      <td>430.0</td>\n",
       "      <td>39.0</td>\n",
       "      <td>460.0</td>\n",
       "      <td>223.0</td>\n",
       "      <td>246.0</td>\n",
       "      <td>125.0</td>\n",
       "      <td>...</td>\n",
       "      <td>1</td>\n",
       "      <td>0</td>\n",
       "      <td>0</td>\n",
       "      <td>0</td>\n",
       "      <td>0</td>\n",
       "      <td>0</td>\n",
       "      <td>0</td>\n",
       "      <td>0</td>\n",
       "      <td>0</td>\n",
       "      <td>1</td>\n",
       "    </tr>\n",
       "  </tbody>\n",
       "</table>\n",
       "<p>5 rows × 56 columns</p>\n",
       "</div>"
      ],
      "text/plain": [
       "   Id  Elevation  Aspect  Slope  Horizontal_Distance_To_Hydrology  \\\n",
       "0   1     3317.0   131.0   20.0                             232.0   \n",
       "1   2     3221.0   243.0    7.0                             163.0   \n",
       "2   3     3156.0   305.0   12.0                             183.0   \n",
       "3   4     3157.0   135.0   10.0                              68.0   \n",
       "4   5     3209.0   292.0    2.0                             430.0   \n",
       "\n",
       "   Vertical_Distance_To_Hydrology  Horizontal_Distance_To_Roadways  \\\n",
       "0                            21.0                           1762.0   \n",
       "1                           161.0                           2153.0   \n",
       "2                             5.0                           2769.0   \n",
       "3                            55.0                           1641.0   \n",
       "4                            39.0                            460.0   \n",
       "\n",
       "   Hillshade_9am  Hillshade_Noon  Hillshade_3pm  ...  Soil_Type32  \\\n",
       "0          237.0           195.0          136.0  ...            1   \n",
       "1          196.0           222.0          131.0  ...            0   \n",
       "2          240.0           253.0          235.0  ...            1   \n",
       "3          227.0           253.0          159.0  ...            1   \n",
       "4          223.0           246.0          125.0  ...            1   \n",
       "\n",
       "   Soil_Type33  Soil_Type34  Soil_Type35  Soil_Type36  Soil_Type37  \\\n",
       "0            0            0            0            0            0   \n",
       "1            0            0            1            0            0   \n",
       "2            0            0            0            0            0   \n",
       "3            0            0            0            0            0   \n",
       "4            0            0            0            0            0   \n",
       "\n",
       "   Soil_Type38  Soil_Type39  Soil_Type40  Cover_Type  \n",
       "0            0            0            0           1  \n",
       "1            0            0            0           1  \n",
       "2            0            0            0           1  \n",
       "3            0            0            0           1  \n",
       "4            0            0            0           1  \n",
       "\n",
       "[5 rows x 56 columns]"
      ]
     },
     "execution_count": 44,
     "metadata": {},
     "output_type": "execute_result"
    }
   ],
   "source": [
    "df_surekli=df.select_dtypes(include=[\"float64\",\"int64\"])\n",
    "df_surekli.head()#hepsi sürekli değişken"
   ]
  },
  {
   "cell_type": "code",
   "execution_count": 53,
   "id": "58162813",
   "metadata": {},
   "outputs": [
    {
     "name": "stdout",
     "output_type": "stream",
     "text": [
      "<class 'pandas.core.frame.DataFrame'>\n",
      "RangeIndex: 126426 entries, 0 to 126425\n",
      "Data columns (total 56 columns):\n",
      " #   Column                              Non-Null Count   Dtype  \n",
      "---  ------                              --------------   -----  \n",
      " 0   Id                                  126426 non-null  int64  \n",
      " 1   Elevation                           126397 non-null  float64\n",
      " 2   Aspect                              126409 non-null  float64\n",
      " 3   Slope                               126419 non-null  float64\n",
      " 4   Horizontal_Distance_To_Hydrology    126413 non-null  float64\n",
      " 5   Vertical_Distance_To_Hydrology      126419 non-null  float64\n",
      " 6   Horizontal_Distance_To_Roadways     126419 non-null  float64\n",
      " 7   Hillshade_9am                       126417 non-null  float64\n",
      " 8   Hillshade_Noon                      126417 non-null  float64\n",
      " 9   Hillshade_3pm                       126407 non-null  float64\n",
      " 10  Horizontal_Distance_To_Fire_Points  126416 non-null  float64\n",
      " 11  Wilderness_Area1                    126426 non-null  int64  \n",
      " 12  Wilderness_Area2                    126426 non-null  int64  \n",
      " 13  Wilderness_Area3                    126426 non-null  int64  \n",
      " 14  Wilderness_Area4                    126426 non-null  int64  \n",
      " 15  Soil_Type1                          126426 non-null  int64  \n",
      " 16  Soil_Type2                          126426 non-null  int64  \n",
      " 17  Soil_Type3                          126426 non-null  int64  \n",
      " 18  Soil_Type4                          126426 non-null  int64  \n",
      " 19  Soil_Type5                          126426 non-null  int64  \n",
      " 20  Soil_Type6                          126426 non-null  int64  \n",
      " 21  Soil_Type7                          126426 non-null  int64  \n",
      " 22  Soil_Type8                          126426 non-null  int64  \n",
      " 23  Soil_Type9                          126426 non-null  int64  \n",
      " 24  Soil_Type10                         126426 non-null  int64  \n",
      " 25  Soil_Type11                         126426 non-null  int64  \n",
      " 26  Soil_Type12                         126426 non-null  int64  \n",
      " 27  Soil_Type13                         126426 non-null  int64  \n",
      " 28  Soil_Type14                         126426 non-null  int64  \n",
      " 29  Soil_Type15                         126426 non-null  int64  \n",
      " 30  Soil_Type16                         126426 non-null  int64  \n",
      " 31  Soil_Type17                         126426 non-null  int64  \n",
      " 32  Soil_Type18                         126426 non-null  int64  \n",
      " 33  Soil_Type19                         126426 non-null  int64  \n",
      " 34  Soil_Type20                         126426 non-null  int64  \n",
      " 35  Soil_Type21                         126426 non-null  int64  \n",
      " 36  Soil_Type22                         126426 non-null  int64  \n",
      " 37  Soil_Type23                         126426 non-null  int64  \n",
      " 38  Soil_Type24                         126426 non-null  int64  \n",
      " 39  Soil_Type25                         126426 non-null  int64  \n",
      " 40  Soil_Type26                         126426 non-null  int64  \n",
      " 41  Soil_Type27                         126426 non-null  int64  \n",
      " 42  Soil_Type28                         126426 non-null  int64  \n",
      " 43  Soil_Type29                         126426 non-null  int64  \n",
      " 44  Soil_Type30                         126426 non-null  int64  \n",
      " 45  Soil_Type31                         126426 non-null  int64  \n",
      " 46  Soil_Type32                         126426 non-null  int64  \n",
      " 47  Soil_Type33                         126426 non-null  int64  \n",
      " 48  Soil_Type34                         126426 non-null  int64  \n",
      " 49  Soil_Type35                         126426 non-null  int64  \n",
      " 50  Soil_Type36                         126426 non-null  int64  \n",
      " 51  Soil_Type37                         126426 non-null  int64  \n",
      " 52  Soil_Type38                         126426 non-null  int64  \n",
      " 53  Soil_Type39                         126426 non-null  int64  \n",
      " 54  Soil_Type40                         126426 non-null  int64  \n",
      " 55  Cover_Type                          126426 non-null  int64  \n",
      "dtypes: float64(10), int64(46)\n",
      "memory usage: 54.0 MB\n"
     ]
    }
   ],
   "source": [
    "df.info()"
   ]
  },
  {
   "cell_type": "code",
   "execution_count": 54,
   "id": "b2d378b2",
   "metadata": {},
   "outputs": [
    {
     "name": "stdout",
     "output_type": "stream",
     "text": [
      "Elevation                             29\n",
      "Hillshade_3pm                         19\n",
      "Aspect                                17\n",
      "Horizontal_Distance_To_Hydrology      13\n",
      "Horizontal_Distance_To_Fire_Points    10\n",
      "Hillshade_9am                          9\n",
      "Hillshade_Noon                         9\n",
      "Slope                                  7\n",
      "Vertical_Distance_To_Hydrology         7\n",
      "Horizontal_Distance_To_Roadways        7\n",
      "Soil_Type24                            0\n",
      "Soil_Type28                            0\n",
      "Soil_Type27                            0\n",
      "Soil_Type26                            0\n",
      "Soil_Type25                            0\n",
      "Id                                     0\n",
      "Soil_Type23                            0\n",
      "Soil_Type22                            0\n",
      "Soil_Type21                            0\n",
      "Soil_Type30                            0\n",
      "Soil_Type29                            0\n",
      "Soil_Type35                            0\n",
      "Soil_Type31                            0\n",
      "Soil_Type32                            0\n",
      "Soil_Type33                            0\n",
      "Soil_Type34                            0\n",
      "Soil_Type19                            0\n",
      "Soil_Type36                            0\n",
      "Soil_Type37                            0\n",
      "Soil_Type38                            0\n",
      "Soil_Type39                            0\n",
      "Soil_Type40                            0\n",
      "Soil_Type20                            0\n",
      "Soil_Type14                            0\n",
      "Soil_Type18                            0\n",
      "Soil_Type17                            0\n",
      "Wilderness_Area1                       0\n",
      "Wilderness_Area2                       0\n",
      "Wilderness_Area3                       0\n",
      "Wilderness_Area4                       0\n",
      "Soil_Type1                             0\n",
      "Soil_Type2                             0\n",
      "Soil_Type3                             0\n",
      "Soil_Type4                             0\n",
      "Soil_Type5                             0\n",
      "Soil_Type6                             0\n",
      "Soil_Type7                             0\n",
      "Soil_Type8                             0\n",
      "Soil_Type9                             0\n",
      "Soil_Type10                            0\n",
      "Soil_Type11                            0\n",
      "Soil_Type12                            0\n",
      "Soil_Type13                            0\n",
      "Soil_Type15                            0\n",
      "Soil_Type16                            0\n",
      "Cover_Type                             0\n",
      "dtype: int64\n"
     ]
    }
   ],
   "source": [
    "print(df.isnull().sum().sort_values(ascending=False))\n",
    "#Eksik veriler"
   ]
  },
  {
   "cell_type": "code",
   "execution_count": 38,
   "id": "1afcf98b",
   "metadata": {},
   "outputs": [
    {
     "data": {
      "text/plain": [
       "<AxesSubplot:xlabel='Elevation', ylabel='Slope'>"
      ]
     },
     "execution_count": 38,
     "metadata": {},
     "output_type": "execute_result"
    },
    {
     "data": {
      "image/png": "[encoded data removed]",
      "text/plain": [
       "<Figure size 432x288 with 1 Axes>"
      ]
     },
     "metadata": {
      "needs_background": "light"
     },
     "output_type": "display_data"
    }
   ],
   "source": [
    "sns.violinplot(x='Elevation',y='Slope',data=df)\n",
    "# Yüksekliğe göre Eğim aykırılığı(yığılımı)"
   ]
  },
  {
   "cell_type": "code",
   "execution_count": 43,
   "id": "7bf2e580",
   "metadata": {},
   "outputs": [
    {
     "data": {
      "text/plain": [
       "<AxesSubplot:xlabel='Aspect'>"
      ]
     },
     "execution_count": 43,
     "metadata": {},
     "output_type": "execute_result"
    },
    {
     "data": {
      "image/png": "[encoded data removed]",
      "text/plain": [
       "<Figure size 432x288 with 1 Axes>"
      ]
     },
     "metadata": {
      "needs_background": "light"
     },
     "output_type": "display_data"
    }
   ],
   "source": [
    "sns.distplot(df.Aspect,bins=50,kde=False)\n",
    "#histogram grafiği\n",
    "#bins x eksenindeki sütun sayısı\n",
    "#kde argümanın yoğunluk grafiği üstüne eklensin mi diye sorar."
   ]
  },
  {
   "cell_type": "code",
   "execution_count": 46,
   "id": "de58814d",
   "metadata": {},
   "outputs": [
    {
     "name": "stderr",
     "output_type": "stream",
     "text": [
      "C:\\Users\\Zehra\\anaconda3\\lib\\site-packages\\seaborn\\distributions.py:2557: FutureWarning: `distplot` is a deprecated function and will be removed in a future version. Please adapt your code to use either `displot` (a figure-level function with similar flexibility) or `histplot` (an axes-level function for histograms).\n",
      "  warnings.warn(msg, FutureWarning)\n"
     ]
    },
    {
     "data": {
      "text/plain": [
       "<AxesSubplot:xlabel='Elevation'>"
      ]
     },
     "execution_count": 46,
     "metadata": {},
     "output_type": "execute_result"
    },
    {
     "data": {
      "image/png": "[encoded data removed]",
      "text/plain": [
       "<Figure size 432x288 with 1 Axes>"
      ]
     },
     "metadata": {
      "needs_background": "light"
     },
     "output_type": "display_data"
    }
   ],
   "source": [
    "sns.distplot(df.Elevation,kde=False)"
   ]
  },
  {
   "cell_type": "code",
   "execution_count": 48,
   "id": "7070e271",
   "metadata": {},
   "outputs": [
    {
     "data": {
      "text/plain": [
       "<AxesSubplot:xlabel='Elevation', ylabel='Density'>"
      ]
     },
     "execution_count": 48,
     "metadata": {},
     "output_type": "execute_result"
    },
    {
     "data": {
      "image/png": "[encoded data removed]",
      "text/plain": [
       "<Figure size 432x288 with 1 Axes>"
      ]
     },
     "metadata": {
      "needs_background": "light"
     },
     "output_type": "display_data"
    }
   ],
   "source": [
    "sns.kdeplot(df.Elevation,shade=True)\n",
    "#histogram ve yoğunluk"
   ]
  },
  {
   "cell_type": "code",
   "execution_count": 41,
   "id": "55dbadb3",
   "metadata": {},
   "outputs": [
    {
     "data": {
      "text/plain": [
       "<AxesSubplot:xlabel='Slope'>"
      ]
     },
     "execution_count": 41,
     "metadata": {},
     "output_type": "execute_result"
    },
    {
     "data": {
      "image/png": "[encoded data removed]",
      "text/plain": [
       "<Figure size 432x288 with 1 Axes>"
      ]
     },
     "metadata": {
      "needs_background": "light"
     },
     "output_type": "display_data"
    }
   ],
   "source": [
    "sns.distplot(df.Slope,kde=False)"
   ]
  },
  {
   "cell_type": "code",
   "execution_count": 70,
   "id": "93c21d29",
   "metadata": {},
   "outputs": [],
   "source": [
    "data=df.head(50)"
   ]
  },
  {
   "cell_type": "code",
   "execution_count": 68,
   "id": "12c89193",
   "metadata": {},
   "outputs": [
    {
     "data": {
      "text/plain": [
       "<seaborn.axisgrid.FacetGrid at 0x2159024b880>"
      ]
     },
     "execution_count": 68,
     "metadata": {},
     "output_type": "execute_result"
    },
    {
     "data": {
      "image/png": "[encoded data removed]",
      "text/plain": [
       "<Figure size 360x360 with 1 Axes>"
      ]
     },
     "metadata": {
      "needs_background": "light"
     },
     "output_type": "display_data"
    }
   ],
   "source": [
    "sns.lmplot(x='Elevation',y='Hillshade_Noon',data=data)"
   ]
  },
  {
   "cell_type": "code",
   "execution_count": 71,
   "id": "377b2a63",
   "metadata": {},
   "outputs": [
    {
     "data": {
      "text/plain": [
       "<seaborn.axisgrid.FacetGrid at 0x2158f04adf0>"
      ]
     },
     "execution_count": 71,
     "metadata": {},
     "output_type": "execute_result"
    },
    {
     "data": {
      "image/png": "[encoded data removed]",
      "text/plain": [
       "<Figure size 424.75x360 with 1 Axes>"
      ]
     },
     "metadata": {
      "needs_background": "light"
     },
     "output_type": "display_data"
    }
   ],
   "source": [
    "sns.lmplot(x='Elevation',y='Hillshade_Noon',hue='Aspect',data=data)"
   ]
  },
  {
   "cell_type": "code",
   "execution_count": 344,
   "id": "e02c0ebd",
   "metadata": {},
   "outputs": [
    {
     "data": {
      "text/plain": [
       "0    0.333333\n",
       "1    0.136364\n",
       "2    0.212121\n",
       "3    0.181818\n",
       "4    0.060606\n",
       "Name: Slope, dtype: float64"
      ]
     },
     "execution_count": 344,
     "metadata": {},
     "output_type": "execute_result"
    }
   ],
   "source": [
    "df_hegim=df['Slope']\n",
    "df_hegim.head()"
   ]
  },
  {
   "cell_type": "code",
   "execution_count": 345,
   "id": "3618d6ba",
   "metadata": {},
   "outputs": [
    {
     "data": {
      "text/plain": [
       "<AxesSubplot:xlabel='Slope'>"
      ]
     },
     "execution_count": 345,
     "metadata": {},
     "output_type": "execute_result"
    },
    {
     "data": {
      "image/png": "[encoded data removed]",
      "text/plain": [
       "<Figure size 432x288 with 1 Axes>"
      ]
     },
     "metadata": {
      "needs_background": "light"
     },
     "output_type": "display_data"
    }
   ],
   "source": [
    "sns.boxplot(x=df_hegim)"
   ]
  },
  {
   "cell_type": "code",
   "execution_count": 346,
   "id": "ac6cb342",
   "metadata": {},
   "outputs": [],
   "source": [
    "Q1=df_hegim.quantile(0.25)\n",
    "Q3=df_hegim.quantile(0.75)\n",
    "IQR=Q3-Q1"
   ]
  },
  {
   "cell_type": "code",
   "execution_count": 347,
   "id": "3c2fd068",
   "metadata": {},
   "outputs": [
    {
     "data": {
      "text/plain": [
       "(-0.060606060606060635, 0.5454545454545454)"
      ]
     },
     "execution_count": 347,
     "metadata": {},
     "output_type": "execute_result"
    }
   ],
   "source": [
    "alt_sinir=Q1-1.5*IQR\n",
    "ust_sinir=Q3+1.5*IQR\n",
    "alt_sinir,ust_sinir"
   ]
  },
  {
   "cell_type": "code",
   "execution_count": 348,
   "id": "ed8b8248",
   "metadata": {},
   "outputs": [
    {
     "data": {
      "text/plain": [
       "0    False\n",
       "1    False\n",
       "2    False\n",
       "3    False\n",
       "4    False\n",
       "Name: Slope, dtype: bool"
      ]
     },
     "execution_count": 348,
     "metadata": {},
     "output_type": "execute_result"
    }
   ],
   "source": [
    "aykiri_df=((df_hegim)<(alt_sinir))|((df_hegim)>(ust_sinir))\n",
    "aykiri_df.head()"
   ]
  },
  {
   "cell_type": "code",
   "execution_count": 349,
   "id": "b2298795",
   "metadata": {},
   "outputs": [
    {
     "data": {
      "text/plain": [
       "270       0.681818\n",
       "447       0.833333\n",
       "618       0.651515\n",
       "837       0.575758\n",
       "893       0.666667\n",
       "            ...   \n",
       "126152    0.590909\n",
       "126192    0.621212\n",
       "126211    0.651515\n",
       "126392    0.863636\n",
       "126423    0.590909\n",
       "Name: Slope, Length: 2611, dtype: float64"
      ]
     },
     "execution_count": 349,
     "metadata": {},
     "output_type": "execute_result"
    }
   ],
   "source": [
    "df_egim=pd.DataFrame(df_hegim)\n",
    "df_heg=df_hegim[aykiri_df]\n",
    "df_hegim[aykiri_df]"
   ]
  },
  {
   "cell_type": "code",
   "execution_count": 350,
   "id": "9836a55e",
   "metadata": {},
   "outputs": [
    {
     "name": "stderr",
     "output_type": "stream",
     "text": [
      "<ipython-input-350-24302fd5f01c>:1: SettingWithCopyWarning: \n",
      "A value is trying to be set on a copy of a slice from a DataFrame\n",
      "\n",
      "See the caveats in the documentation: https://pandas.pydata.org/pandas-docs/stable/user_guide/indexing.html#returning-a-view-versus-a-copy\n",
      "  df_hegim[aykiri_df]=df_hegim.mean()\n"
     ]
    },
    {
     "data": {
      "text/plain": [
       "270       0.253663\n",
       "447       0.253663\n",
       "618       0.253663\n",
       "837       0.253663\n",
       "893       0.253663\n",
       "            ...   \n",
       "126152    0.253663\n",
       "126192    0.253663\n",
       "126211    0.253663\n",
       "126392    0.253663\n",
       "126423    0.253663\n",
       "Name: Slope, Length: 2611, dtype: float64"
      ]
     },
     "execution_count": 350,
     "metadata": {},
     "output_type": "execute_result"
    }
   ],
   "source": [
    "df_hegim[aykiri_df]=df_hegim.mean()\n",
    "df_hegim[aykiri_df]"
   ]
  },
  {
   "cell_type": "code",
   "execution_count": 82,
   "id": "80ceb986",
   "metadata": {},
   "outputs": [
    {
     "data": {
      "text/plain": [
       "0    232.0\n",
       "1    163.0\n",
       "2    183.0\n",
       "3     68.0\n",
       "4    430.0\n",
       "Name: Horizontal_Distance_To_Hydrology, dtype: float64"
      ]
     },
     "execution_count": 82,
     "metadata": {},
     "output_type": "execute_result"
    }
   ],
   "source": [
    "df_hyatay=df['Horizontal_Distance_To_Hydrology']\n",
    "df_hyatay.head()"
   ]
  },
  {
   "cell_type": "code",
   "execution_count": 83,
   "id": "015fe268",
   "metadata": {},
   "outputs": [
    {
     "data": {
      "text/plain": [
       "<AxesSubplot:xlabel='Horizontal_Distance_To_Hydrology'>"
      ]
     },
     "execution_count": 83,
     "metadata": {},
     "output_type": "execute_result"
    },
    {
     "data": {
      "image/png": "[encoded data removed]",
      "text/plain": [
       "<Figure size 432x288 with 1 Axes>"
      ]
     },
     "metadata": {
      "needs_background": "light"
     },
     "output_type": "display_data"
    }
   ],
   "source": [
    "sns.boxplot(x=df_hyatay)"
   ]
  },
  {
   "cell_type": "code",
   "execution_count": 351,
   "id": "9bf0c7fc",
   "metadata": {},
   "outputs": [],
   "source": [
    "Q1=df_hyatay.quantile(0.25)\n",
    "Q3=df_hyatay.quantile(0.75)\n",
    "IQR=Q3-Q1"
   ]
  },
  {
   "cell_type": "code",
   "execution_count": 352,
   "id": "3081d8f4",
   "metadata": {},
   "outputs": [
    {
     "data": {
      "text/plain": [
       "(-206.0, 650.0)"
      ]
     },
     "execution_count": 352,
     "metadata": {},
     "output_type": "execute_result"
    }
   ],
   "source": [
    "alt_sinir=Q1-1.5*IQR\n",
    "ust_sinir=Q3+1.5*IQR\n",
    "alt_sinir,ust_sinir"
   ]
  },
  {
   "cell_type": "code",
   "execution_count": 353,
   "id": "b1279370",
   "metadata": {},
   "outputs": [
    {
     "data": {
      "text/plain": [
       "0    False\n",
       "1    False\n",
       "2    False\n",
       "3    False\n",
       "4    False\n",
       "Name: Horizontal_Distance_To_Hydrology, dtype: bool"
      ]
     },
     "execution_count": 353,
     "metadata": {},
     "output_type": "execute_result"
    }
   ],
   "source": [
    "aykiri_df=((df_hyatay)<(alt_sinir))|((df_hyatay)>(ust_sinir))\n",
    "aykiri_df.head()"
   ]
  },
  {
   "cell_type": "code",
   "execution_count": 354,
   "id": "12553971",
   "metadata": {},
   "outputs": [
    {
     "data": {
      "text/plain": [
       "29        711.0\n",
       "98        658.0\n",
       "99        676.0\n",
       "126       681.0\n",
       "243       691.0\n",
       "          ...  \n",
       "126246    668.0\n",
       "126256    712.0\n",
       "126274    712.0\n",
       "126297    653.0\n",
       "126301    653.0\n",
       "Name: Horizontal_Distance_To_Hydrology, Length: 2553, dtype: float64"
      ]
     },
     "execution_count": 354,
     "metadata": {},
     "output_type": "execute_result"
    }
   ],
   "source": [
    "df_yatay=pd.DataFrame(df_hyatay)\n",
    "df_hyat=df_hyatay[aykiri_df]\n",
    "df_hyatay[aykiri_df]"
   ]
  },
  {
   "cell_type": "code",
   "execution_count": 355,
   "id": "6ee9656f",
   "metadata": {},
   "outputs": [
    {
     "name": "stderr",
     "output_type": "stream",
     "text": [
      "<ipython-input-355-49fbdd175ddf>:1: SettingWithCopyWarning: \n",
      "A value is trying to be set on a copy of a slice from a DataFrame\n",
      "\n",
      "See the caveats in the documentation: https://pandas.pydata.org/pandas-docs/stable/user_guide/indexing.html#returning-a-view-versus-a-copy\n",
      "  df_hyatay[aykiri_df]=df_hyatay.mean()\n"
     ]
    },
    {
     "data": {
      "text/plain": [
       "29        240.351243\n",
       "98        240.351243\n",
       "99        240.351243\n",
       "126       240.351243\n",
       "243       240.351243\n",
       "             ...    \n",
       "126246    240.351243\n",
       "126256    240.351243\n",
       "126274    240.351243\n",
       "126297    240.351243\n",
       "126301    240.351243\n",
       "Name: Horizontal_Distance_To_Hydrology, Length: 2553, dtype: float64"
      ]
     },
     "execution_count": 355,
     "metadata": {},
     "output_type": "execute_result"
    }
   ],
   "source": [
    "df_hyatay[aykiri_df]=df_hyatay.mean()\n",
    "df_hyatay[aykiri_df]"
   ]
  },
  {
   "cell_type": "code",
   "execution_count": 338,
   "id": "04b3cc6c",
   "metadata": {},
   "outputs": [
    {
     "data": {
      "text/plain": [
       "<AxesSubplot:xlabel='Horizontal_Distance_To_Hydrology'>"
      ]
     },
     "execution_count": 338,
     "metadata": {},
     "output_type": "execute_result"
    },
    {
     "data": {
      "image/png": "[encoded data removed]",
      "text/plain": [
       "<Figure size 432x288 with 1 Axes>"
      ]
     },
     "metadata": {
      "needs_background": "light"
     },
     "output_type": "display_data"
    }
   ],
   "source": [
    "sns.boxplot(x=df_hyatay)"
   ]
  },
  {
   "cell_type": "code",
   "execution_count": 85,
   "id": "eb0cb9f4",
   "metadata": {},
   "outputs": [
    {
     "data": {
      "text/plain": [
       "0     21.0\n",
       "1    161.0\n",
       "2      5.0\n",
       "3     55.0\n",
       "4     39.0\n",
       "Name: Vertical_Distance_To_Hydrology, dtype: float64"
      ]
     },
     "execution_count": 85,
     "metadata": {},
     "output_type": "execute_result"
    }
   ],
   "source": [
    "df_hdikey=df['Vertical_Distance_To_Hydrology']\n",
    "df_hdikey.head()"
   ]
  },
  {
   "cell_type": "code",
   "execution_count": 86,
   "id": "be0cbbd9",
   "metadata": {},
   "outputs": [
    {
     "data": {
      "text/plain": [
       "<AxesSubplot:xlabel='Vertical_Distance_To_Hydrology'>"
      ]
     },
     "execution_count": 86,
     "metadata": {},
     "output_type": "execute_result"
    },
    {
     "data": {
      "image/png": "[encoded data removed]",
      "text/plain": [
       "<Figure size 432x288 with 1 Axes>"
      ]
     },
     "metadata": {
      "needs_background": "light"
     },
     "output_type": "display_data"
    }
   ],
   "source": [
    "sns.boxplot(x=df_hdikey)"
   ]
  },
  {
   "cell_type": "code",
   "execution_count": 87,
   "id": "74a8771a",
   "metadata": {},
   "outputs": [],
   "source": [
    "Q1=df_hdikey.quantile(0.25)\n",
    "Q3=df_hdikey.quantile(0.75)\n",
    "IQR=Q3-Q1"
   ]
  },
  {
   "cell_type": "code",
   "execution_count": 88,
   "id": "9bfe70da",
   "metadata": {},
   "outputs": [
    {
     "data": {
      "text/plain": [
       "(7.0, 80.0, 73.0)"
      ]
     },
     "execution_count": 88,
     "metadata": {},
     "output_type": "execute_result"
    }
   ],
   "source": [
    "Q1,Q3,IQR"
   ]
  },
  {
   "cell_type": "code",
   "execution_count": 89,
   "id": "7c1f3cd9",
   "metadata": {},
   "outputs": [
    {
     "data": {
      "text/plain": [
       "(-102.5, 189.5)"
      ]
     },
     "execution_count": 89,
     "metadata": {},
     "output_type": "execute_result"
    }
   ],
   "source": [
    "alt_sinir=Q1-1.5*IQR\n",
    "ust_sinir=Q3+1.5*IQR\n",
    "alt_sinir,ust_sinir"
   ]
  },
  {
   "cell_type": "code",
   "execution_count": 91,
   "id": "6065ce76",
   "metadata": {},
   "outputs": [
    {
     "data": {
      "text/plain": [
       "0         False\n",
       "1         False\n",
       "2         False\n",
       "3         False\n",
       "4         False\n",
       "          ...  \n",
       "126421    False\n",
       "126422    False\n",
       "126423    False\n",
       "126424    False\n",
       "126425    False\n",
       "Name: Vertical_Distance_To_Hydrology, Length: 126426, dtype: bool"
      ]
     },
     "execution_count": 91,
     "metadata": {},
     "output_type": "execute_result"
    }
   ],
   "source": [
    "(df_hdikey<alt_sinir)|(df_hdikey>ust_sinir)"
   ]
  },
  {
   "cell_type": "code",
   "execution_count": 118,
   "id": "16792c83",
   "metadata": {},
   "outputs": [
    {
     "data": {
      "text/plain": [
       "0    False\n",
       "1    False\n",
       "2    False\n",
       "3    False\n",
       "4    False\n",
       "Name: Vertical_Distance_To_Hydrology, dtype: bool"
      ]
     },
     "execution_count": 118,
     "metadata": {},
     "output_type": "execute_result"
    }
   ],
   "source": [
    "aykiri_df=((df_hdikey)<(alt_sinir))|((df_hdikey)>(ust_sinir))\n",
    "aykiri_df.head()"
   ]
  },
  {
   "cell_type": "code",
   "execution_count": 119,
   "id": "939ff557",
   "metadata": {},
   "outputs": [
    {
     "data": {
      "text/plain": [
       "Int64Index([    27,     32,     53,    101,    106,    127,    193,    208,\n",
       "               231,    238,\n",
       "            ...\n",
       "            126190, 126202, 126245, 126269, 126335, 126339, 126351, 126388,\n",
       "            126395, 126408],\n",
       "           dtype='int64', length=6042)"
      ]
     },
     "execution_count": 119,
     "metadata": {},
     "output_type": "execute_result"
    }
   ],
   "source": [
    "df_hdikey[aykiri_df].index"
   ]
  },
  {
   "cell_type": "code",
   "execution_count": 120,
   "id": "ad8415f2",
   "metadata": {},
   "outputs": [
    {
     "data": {
      "text/plain": [
       "pandas.core.series.Series"
      ]
     },
     "execution_count": 120,
     "metadata": {},
     "output_type": "execute_result"
    }
   ],
   "source": [
    "type(df_hdikey)"
   ]
  },
  {
   "cell_type": "code",
   "execution_count": 101,
   "id": "f2d404cf",
   "metadata": {},
   "outputs": [],
   "source": [
    "df_dikey=pd.DataFrame(df_hdikey)"
   ]
  },
  {
   "cell_type": "code",
   "execution_count": 103,
   "id": "d293482b",
   "metadata": {},
   "outputs": [
    {
     "data": {
      "text/plain": [
       "(126426,)"
      ]
     },
     "execution_count": 103,
     "metadata": {},
     "output_type": "execute_result"
    }
   ],
   "source": [
    "df_hdikey.shape"
   ]
  },
  {
   "cell_type": "code",
   "execution_count": 121,
   "id": "6c2af277",
   "metadata": {},
   "outputs": [],
   "source": [
    "df_hdik=df_hdikey[aykiri_df]"
   ]
  },
  {
   "cell_type": "code",
   "execution_count": 125,
   "id": "c75c8358",
   "metadata": {},
   "outputs": [
    {
     "data": {
      "text/plain": [
       "(6042,)"
      ]
     },
     "execution_count": 125,
     "metadata": {},
     "output_type": "execute_result"
    }
   ],
   "source": [
    "df_hdik.shape"
   ]
  },
  {
   "cell_type": "code",
   "execution_count": 126,
   "id": "ac7f93c6",
   "metadata": {},
   "outputs": [
    {
     "data": {
      "text/plain": [
       "0    False\n",
       "1    False\n",
       "2    False\n",
       "3    False\n",
       "4    False\n",
       "Name: Vertical_Distance_To_Hydrology, dtype: bool"
      ]
     },
     "execution_count": 126,
     "metadata": {},
     "output_type": "execute_result"
    }
   ],
   "source": [
    "#AYKIRI DEĞERLER İÇİN ORTALAMA İŞLEMİ\n",
    "aykiri_df.head()"
   ]
  },
  {
   "cell_type": "code",
   "execution_count": 127,
   "id": "df69e7f1",
   "metadata": {},
   "outputs": [
    {
     "data": {
      "text/plain": [
       "27        234.0\n",
       "32        474.0\n",
       "53        211.0\n",
       "101       241.0\n",
       "106       233.0\n",
       "          ...  \n",
       "126339    232.0\n",
       "126351    225.0\n",
       "126388    270.0\n",
       "126395    270.0\n",
       "126408    210.0\n",
       "Name: Vertical_Distance_To_Hydrology, Length: 6042, dtype: float64"
      ]
     },
     "execution_count": 127,
     "metadata": {},
     "output_type": "execute_result"
    }
   ],
   "source": [
    "df_hdikey[aykiri_df]"
   ]
  },
  {
   "cell_type": "code",
   "execution_count": 128,
   "id": "fcce94e2",
   "metadata": {},
   "outputs": [
    {
     "data": {
      "text/plain": [
       "53.91314074959857"
      ]
     },
     "execution_count": 128,
     "metadata": {},
     "output_type": "execute_result"
    }
   ],
   "source": [
    "df_hdikey.mean()"
   ]
  },
  {
   "cell_type": "code",
   "execution_count": 129,
   "id": "df195262",
   "metadata": {},
   "outputs": [
    {
     "name": "stderr",
     "output_type": "stream",
     "text": [
      "<ipython-input-129-f70335a5dc1b>:1: SettingWithCopyWarning: \n",
      "A value is trying to be set on a copy of a slice from a DataFrame\n",
      "\n",
      "See the caveats in the documentation: https://pandas.pydata.org/pandas-docs/stable/user_guide/indexing.html#returning-a-view-versus-a-copy\n",
      "  df_hdikey[aykiri_df]=df_hdikey.mean()\n"
     ]
    }
   ],
   "source": [
    "df_hdikey[aykiri_df]=df_hdikey.mean()"
   ]
  },
  {
   "cell_type": "code",
   "execution_count": 130,
   "id": "5db39546",
   "metadata": {},
   "outputs": [
    {
     "data": {
      "text/plain": [
       "27        53.913141\n",
       "32        53.913141\n",
       "53        53.913141\n",
       "101       53.913141\n",
       "106       53.913141\n",
       "            ...    \n",
       "126339    53.913141\n",
       "126351    53.913141\n",
       "126388    53.913141\n",
       "126395    53.913141\n",
       "126408    53.913141\n",
       "Name: Vertical_Distance_To_Hydrology, Length: 6042, dtype: float64"
      ]
     },
     "execution_count": 130,
     "metadata": {},
     "output_type": "execute_result"
    }
   ],
   "source": [
    "df_hdikey[aykiri_df]"
   ]
  },
  {
   "cell_type": "code",
   "execution_count": 131,
   "id": "377ec047",
   "metadata": {},
   "outputs": [
    {
     "data": {
      "text/plain": [
       "Id                                     0\n",
       "Elevation                             29\n",
       "Aspect                                17\n",
       "Slope                                  7\n",
       "Horizontal_Distance_To_Hydrology      13\n",
       "Vertical_Distance_To_Hydrology         7\n",
       "Horizontal_Distance_To_Roadways        7\n",
       "Hillshade_9am                          9\n",
       "Hillshade_Noon                         9\n",
       "Hillshade_3pm                         19\n",
       "Horizontal_Distance_To_Fire_Points    10\n",
       "Wilderness_Area1                       0\n",
       "Wilderness_Area2                       0\n",
       "Wilderness_Area3                       0\n",
       "Wilderness_Area4                       0\n",
       "Soil_Type1                             0\n",
       "Soil_Type2                             0\n",
       "Soil_Type3                             0\n",
       "Soil_Type4                             0\n",
       "Soil_Type5                             0\n",
       "Soil_Type6                             0\n",
       "Soil_Type7                             0\n",
       "Soil_Type8                             0\n",
       "Soil_Type9                             0\n",
       "Soil_Type10                            0\n",
       "Soil_Type11                            0\n",
       "Soil_Type12                            0\n",
       "Soil_Type13                            0\n",
       "Soil_Type14                            0\n",
       "Soil_Type15                            0\n",
       "Soil_Type16                            0\n",
       "Soil_Type17                            0\n",
       "Soil_Type18                            0\n",
       "Soil_Type19                            0\n",
       "Soil_Type20                            0\n",
       "Soil_Type21                            0\n",
       "Soil_Type22                            0\n",
       "Soil_Type23                            0\n",
       "Soil_Type24                            0\n",
       "Soil_Type25                            0\n",
       "Soil_Type26                            0\n",
       "Soil_Type27                            0\n",
       "Soil_Type28                            0\n",
       "Soil_Type29                            0\n",
       "Soil_Type30                            0\n",
       "Soil_Type31                            0\n",
       "Soil_Type32                            0\n",
       "Soil_Type33                            0\n",
       "Soil_Type34                            0\n",
       "Soil_Type35                            0\n",
       "Soil_Type36                            0\n",
       "Soil_Type37                            0\n",
       "Soil_Type38                            0\n",
       "Soil_Type39                            0\n",
       "Soil_Type40                            0\n",
       "Cover_Type                             0\n",
       "dtype: int64"
      ]
     },
     "execution_count": 131,
     "metadata": {},
     "output_type": "execute_result"
    }
   ],
   "source": [
    "#EKSİK VERİLER\n",
    "#kolonlarda kaç eksik veri var\n",
    "df.isnull().sum()"
   ]
  },
  {
   "cell_type": "code",
   "execution_count": 132,
   "id": "043fdd68",
   "metadata": {},
   "outputs": [
    {
     "data": {
      "text/plain": [
       "Id                                    126426\n",
       "Elevation                             126397\n",
       "Aspect                                126409\n",
       "Slope                                 126419\n",
       "Horizontal_Distance_To_Hydrology      126413\n",
       "Vertical_Distance_To_Hydrology        126419\n",
       "Horizontal_Distance_To_Roadways       126419\n",
       "Hillshade_9am                         126417\n",
       "Hillshade_Noon                        126417\n",
       "Hillshade_3pm                         126407\n",
       "Horizontal_Distance_To_Fire_Points    126416\n",
       "Wilderness_Area1                      126426\n",
       "Wilderness_Area2                      126426\n",
       "Wilderness_Area3                      126426\n",
       "Wilderness_Area4                      126426\n",
       "Soil_Type1                            126426\n",
       "Soil_Type2                            126426\n",
       "Soil_Type3                            126426\n",
       "Soil_Type4                            126426\n",
       "Soil_Type5                            126426\n",
       "Soil_Type6                            126426\n",
       "Soil_Type7                            126426\n",
       "Soil_Type8                            126426\n",
       "Soil_Type9                            126426\n",
       "Soil_Type10                           126426\n",
       "Soil_Type11                           126426\n",
       "Soil_Type12                           126426\n",
       "Soil_Type13                           126426\n",
       "Soil_Type14                           126426\n",
       "Soil_Type15                           126426\n",
       "Soil_Type16                           126426\n",
       "Soil_Type17                           126426\n",
       "Soil_Type18                           126426\n",
       "Soil_Type19                           126426\n",
       "Soil_Type20                           126426\n",
       "Soil_Type21                           126426\n",
       "Soil_Type22                           126426\n",
       "Soil_Type23                           126426\n",
       "Soil_Type24                           126426\n",
       "Soil_Type25                           126426\n",
       "Soil_Type26                           126426\n",
       "Soil_Type27                           126426\n",
       "Soil_Type28                           126426\n",
       "Soil_Type29                           126426\n",
       "Soil_Type30                           126426\n",
       "Soil_Type31                           126426\n",
       "Soil_Type32                           126426\n",
       "Soil_Type33                           126426\n",
       "Soil_Type34                           126426\n",
       "Soil_Type35                           126426\n",
       "Soil_Type36                           126426\n",
       "Soil_Type37                           126426\n",
       "Soil_Type38                           126426\n",
       "Soil_Type39                           126426\n",
       "Soil_Type40                           126426\n",
       "Cover_Type                            126426\n",
       "dtype: int64"
      ]
     },
     "execution_count": 132,
     "metadata": {},
     "output_type": "execute_result"
    }
   ],
   "source": [
    "df.notnull().sum()"
   ]
  },
  {
   "cell_type": "code",
   "execution_count": 133,
   "id": "b18101ee",
   "metadata": {},
   "outputs": [
    {
     "data": {
      "text/plain": [
       "127"
      ]
     },
     "execution_count": 133,
     "metadata": {},
     "output_type": "execute_result"
    }
   ],
   "source": [
    "#Veri setindeki toplam eksik sayısı\n",
    "df.isnull().sum().sum()"
   ]
  },
  {
   "cell_type": "code",
   "execution_count": 134,
   "id": "73c7df5a",
   "metadata": {},
   "outputs": [
    {
     "data": {
      "text/html": [
       "<div>\n",
       "<style scoped>\n",
       "    .dataframe tbody tr th:only-of-type {\n",
       "        vertical-align: middle;\n",
       "    }\n",
       "\n",
       "    .dataframe tbody tr th {\n",
       "        vertical-align: top;\n",
       "    }\n",
       "\n",
       "    .dataframe thead th {\n",
       "        text-align: right;\n",
       "    }\n",
       "</style>\n",
       "<table border=\"1\" class=\"dataframe\">\n",
       "  <thead>\n",
       "    <tr style=\"text-align: right;\">\n",
       "      <th></th>\n",
       "      <th>Id</th>\n",
       "      <th>Elevation</th>\n",
       "      <th>Aspect</th>\n",
       "      <th>Slope</th>\n",
       "      <th>Horizontal_Distance_To_Hydrology</th>\n",
       "      <th>Vertical_Distance_To_Hydrology</th>\n",
       "      <th>Horizontal_Distance_To_Roadways</th>\n",
       "      <th>Hillshade_9am</th>\n",
       "      <th>Hillshade_Noon</th>\n",
       "      <th>Hillshade_3pm</th>\n",
       "      <th>...</th>\n",
       "      <th>Soil_Type32</th>\n",
       "      <th>Soil_Type33</th>\n",
       "      <th>Soil_Type34</th>\n",
       "      <th>Soil_Type35</th>\n",
       "      <th>Soil_Type36</th>\n",
       "      <th>Soil_Type37</th>\n",
       "      <th>Soil_Type38</th>\n",
       "      <th>Soil_Type39</th>\n",
       "      <th>Soil_Type40</th>\n",
       "      <th>Cover_Type</th>\n",
       "    </tr>\n",
       "  </thead>\n",
       "  <tbody>\n",
       "    <tr>\n",
       "      <th>1627</th>\n",
       "      <td>1628</td>\n",
       "      <td>NaN</td>\n",
       "      <td>303.0</td>\n",
       "      <td>11.0</td>\n",
       "      <td>457.0</td>\n",
       "      <td>48.000000</td>\n",
       "      <td>1407.0</td>\n",
       "      <td>223.0</td>\n",
       "      <td>216.0</td>\n",
       "      <td>248.0</td>\n",
       "      <td>...</td>\n",
       "      <td>1</td>\n",
       "      <td>0</td>\n",
       "      <td>0</td>\n",
       "      <td>0</td>\n",
       "      <td>0</td>\n",
       "      <td>0</td>\n",
       "      <td>0</td>\n",
       "      <td>0</td>\n",
       "      <td>0</td>\n",
       "      <td>1</td>\n",
       "    </tr>\n",
       "    <tr>\n",
       "      <th>1628</th>\n",
       "      <td>1629</td>\n",
       "      <td>NaN</td>\n",
       "      <td>60.0</td>\n",
       "      <td>13.0</td>\n",
       "      <td>435.0</td>\n",
       "      <td>40.000000</td>\n",
       "      <td>2296.0</td>\n",
       "      <td>157.0</td>\n",
       "      <td>231.0</td>\n",
       "      <td>164.0</td>\n",
       "      <td>...</td>\n",
       "      <td>1</td>\n",
       "      <td>0</td>\n",
       "      <td>0</td>\n",
       "      <td>0</td>\n",
       "      <td>0</td>\n",
       "      <td>0</td>\n",
       "      <td>0</td>\n",
       "      <td>0</td>\n",
       "      <td>0</td>\n",
       "      <td>1</td>\n",
       "    </tr>\n",
       "    <tr>\n",
       "      <th>1629</th>\n",
       "      <td>1630</td>\n",
       "      <td>NaN</td>\n",
       "      <td>59.0</td>\n",
       "      <td>6.0</td>\n",
       "      <td>232.0</td>\n",
       "      <td>53.913141</td>\n",
       "      <td>2717.0</td>\n",
       "      <td>241.0</td>\n",
       "      <td>233.0</td>\n",
       "      <td>164.0</td>\n",
       "      <td>...</td>\n",
       "      <td>0</td>\n",
       "      <td>0</td>\n",
       "      <td>0</td>\n",
       "      <td>0</td>\n",
       "      <td>0</td>\n",
       "      <td>0</td>\n",
       "      <td>0</td>\n",
       "      <td>0</td>\n",
       "      <td>0</td>\n",
       "      <td>1</td>\n",
       "    </tr>\n",
       "    <tr>\n",
       "      <th>1651</th>\n",
       "      <td>1652</td>\n",
       "      <td>NaN</td>\n",
       "      <td>120.0</td>\n",
       "      <td>9.0</td>\n",
       "      <td>194.0</td>\n",
       "      <td>53.913141</td>\n",
       "      <td>3409.0</td>\n",
       "      <td>220.0</td>\n",
       "      <td>219.0</td>\n",
       "      <td>174.0</td>\n",
       "      <td>...</td>\n",
       "      <td>1</td>\n",
       "      <td>0</td>\n",
       "      <td>0</td>\n",
       "      <td>0</td>\n",
       "      <td>0</td>\n",
       "      <td>0</td>\n",
       "      <td>0</td>\n",
       "      <td>0</td>\n",
       "      <td>0</td>\n",
       "      <td>1</td>\n",
       "    </tr>\n",
       "    <tr>\n",
       "      <th>1654</th>\n",
       "      <td>1655</td>\n",
       "      <td>3228.0</td>\n",
       "      <td>59.0</td>\n",
       "      <td>0.0</td>\n",
       "      <td>NaN</td>\n",
       "      <td>19.000000</td>\n",
       "      <td>2167.0</td>\n",
       "      <td>196.0</td>\n",
       "      <td>230.0</td>\n",
       "      <td>179.0</td>\n",
       "      <td>...</td>\n",
       "      <td>0</td>\n",
       "      <td>0</td>\n",
       "      <td>0</td>\n",
       "      <td>0</td>\n",
       "      <td>0</td>\n",
       "      <td>0</td>\n",
       "      <td>0</td>\n",
       "      <td>0</td>\n",
       "      <td>0</td>\n",
       "      <td>1</td>\n",
       "    </tr>\n",
       "    <tr>\n",
       "      <th>...</th>\n",
       "      <td>...</td>\n",
       "      <td>...</td>\n",
       "      <td>...</td>\n",
       "      <td>...</td>\n",
       "      <td>...</td>\n",
       "      <td>...</td>\n",
       "      <td>...</td>\n",
       "      <td>...</td>\n",
       "      <td>...</td>\n",
       "      <td>...</td>\n",
       "      <td>...</td>\n",
       "      <td>...</td>\n",
       "      <td>...</td>\n",
       "      <td>...</td>\n",
       "      <td>...</td>\n",
       "      <td>...</td>\n",
       "      <td>...</td>\n",
       "      <td>...</td>\n",
       "      <td>...</td>\n",
       "      <td>...</td>\n",
       "      <td>...</td>\n",
       "    </tr>\n",
       "    <tr>\n",
       "      <th>108005</th>\n",
       "      <td>108006</td>\n",
       "      <td>NaN</td>\n",
       "      <td>114.0</td>\n",
       "      <td>4.0</td>\n",
       "      <td>674.0</td>\n",
       "      <td>-6.000000</td>\n",
       "      <td>2893.0</td>\n",
       "      <td>245.0</td>\n",
       "      <td>231.0</td>\n",
       "      <td>93.0</td>\n",
       "      <td>...</td>\n",
       "      <td>0</td>\n",
       "      <td>0</td>\n",
       "      <td>0</td>\n",
       "      <td>0</td>\n",
       "      <td>0</td>\n",
       "      <td>0</td>\n",
       "      <td>0</td>\n",
       "      <td>0</td>\n",
       "      <td>0</td>\n",
       "      <td>7</td>\n",
       "    </tr>\n",
       "    <tr>\n",
       "      <th>108013</th>\n",
       "      <td>108014</td>\n",
       "      <td>3330.0</td>\n",
       "      <td>347.0</td>\n",
       "      <td>21.0</td>\n",
       "      <td>NaN</td>\n",
       "      <td>6.000000</td>\n",
       "      <td>2914.0</td>\n",
       "      <td>209.0</td>\n",
       "      <td>214.0</td>\n",
       "      <td>197.0</td>\n",
       "      <td>...</td>\n",
       "      <td>0</td>\n",
       "      <td>0</td>\n",
       "      <td>0</td>\n",
       "      <td>0</td>\n",
       "      <td>0</td>\n",
       "      <td>0</td>\n",
       "      <td>0</td>\n",
       "      <td>0</td>\n",
       "      <td>1</td>\n",
       "      <td>7</td>\n",
       "    </tr>\n",
       "    <tr>\n",
       "      <th>126232</th>\n",
       "      <td>126233</td>\n",
       "      <td>NaN</td>\n",
       "      <td>60.0</td>\n",
       "      <td>11.0</td>\n",
       "      <td>74.0</td>\n",
       "      <td>20.000000</td>\n",
       "      <td>3074.0</td>\n",
       "      <td>241.0</td>\n",
       "      <td>179.0</td>\n",
       "      <td>215.0</td>\n",
       "      <td>...</td>\n",
       "      <td>0</td>\n",
       "      <td>0</td>\n",
       "      <td>0</td>\n",
       "      <td>1</td>\n",
       "      <td>0</td>\n",
       "      <td>0</td>\n",
       "      <td>0</td>\n",
       "      <td>0</td>\n",
       "      <td>0</td>\n",
       "      <td>7</td>\n",
       "    </tr>\n",
       "    <tr>\n",
       "      <th>126327</th>\n",
       "      <td>126328</td>\n",
       "      <td>NaN</td>\n",
       "      <td>379.0</td>\n",
       "      <td>7.0</td>\n",
       "      <td>598.0</td>\n",
       "      <td>21.000000</td>\n",
       "      <td>1304.0</td>\n",
       "      <td>216.0</td>\n",
       "      <td>242.0</td>\n",
       "      <td>104.0</td>\n",
       "      <td>...</td>\n",
       "      <td>0</td>\n",
       "      <td>0</td>\n",
       "      <td>0</td>\n",
       "      <td>0</td>\n",
       "      <td>0</td>\n",
       "      <td>0</td>\n",
       "      <td>0</td>\n",
       "      <td>0</td>\n",
       "      <td>0</td>\n",
       "      <td>7</td>\n",
       "    </tr>\n",
       "    <tr>\n",
       "      <th>126407</th>\n",
       "      <td>126408</td>\n",
       "      <td>NaN</td>\n",
       "      <td>217.0</td>\n",
       "      <td>28.0</td>\n",
       "      <td>267.0</td>\n",
       "      <td>70.000000</td>\n",
       "      <td>2418.0</td>\n",
       "      <td>213.0</td>\n",
       "      <td>228.0</td>\n",
       "      <td>112.0</td>\n",
       "      <td>...</td>\n",
       "      <td>0</td>\n",
       "      <td>1</td>\n",
       "      <td>0</td>\n",
       "      <td>0</td>\n",
       "      <td>0</td>\n",
       "      <td>0</td>\n",
       "      <td>0</td>\n",
       "      <td>0</td>\n",
       "      <td>0</td>\n",
       "      <td>7</td>\n",
       "    </tr>\n",
       "  </tbody>\n",
       "</table>\n",
       "<p>126 rows × 56 columns</p>\n",
       "</div>"
      ],
      "text/plain": [
       "            Id  Elevation  Aspect  Slope  Horizontal_Distance_To_Hydrology  \\\n",
       "1627      1628        NaN   303.0   11.0                             457.0   \n",
       "1628      1629        NaN    60.0   13.0                             435.0   \n",
       "1629      1630        NaN    59.0    6.0                             232.0   \n",
       "1651      1652        NaN   120.0    9.0                             194.0   \n",
       "1654      1655     3228.0    59.0    0.0                               NaN   \n",
       "...        ...        ...     ...    ...                               ...   \n",
       "108005  108006        NaN   114.0    4.0                             674.0   \n",
       "108013  108014     3330.0   347.0   21.0                               NaN   \n",
       "126232  126233        NaN    60.0   11.0                              74.0   \n",
       "126327  126328        NaN   379.0    7.0                             598.0   \n",
       "126407  126408        NaN   217.0   28.0                             267.0   \n",
       "\n",
       "        Vertical_Distance_To_Hydrology  Horizontal_Distance_To_Roadways  \\\n",
       "1627                         48.000000                           1407.0   \n",
       "1628                         40.000000                           2296.0   \n",
       "1629                         53.913141                           2717.0   \n",
       "1651                         53.913141                           3409.0   \n",
       "1654                         19.000000                           2167.0   \n",
       "...                                ...                              ...   \n",
       "108005                       -6.000000                           2893.0   \n",
       "108013                        6.000000                           2914.0   \n",
       "126232                       20.000000                           3074.0   \n",
       "126327                       21.000000                           1304.0   \n",
       "126407                       70.000000                           2418.0   \n",
       "\n",
       "        Hillshade_9am  Hillshade_Noon  Hillshade_3pm  ...  Soil_Type32  \\\n",
       "1627            223.0           216.0          248.0  ...            1   \n",
       "1628            157.0           231.0          164.0  ...            1   \n",
       "1629            241.0           233.0          164.0  ...            0   \n",
       "1651            220.0           219.0          174.0  ...            1   \n",
       "1654            196.0           230.0          179.0  ...            0   \n",
       "...               ...             ...            ...  ...          ...   \n",
       "108005          245.0           231.0           93.0  ...            0   \n",
       "108013          209.0           214.0          197.0  ...            0   \n",
       "126232          241.0           179.0          215.0  ...            0   \n",
       "126327          216.0           242.0          104.0  ...            0   \n",
       "126407          213.0           228.0          112.0  ...            0   \n",
       "\n",
       "        Soil_Type33  Soil_Type34  Soil_Type35  Soil_Type36  Soil_Type37  \\\n",
       "1627              0            0            0            0            0   \n",
       "1628              0            0            0            0            0   \n",
       "1629              0            0            0            0            0   \n",
       "1651              0            0            0            0            0   \n",
       "1654              0            0            0            0            0   \n",
       "...             ...          ...          ...          ...          ...   \n",
       "108005            0            0            0            0            0   \n",
       "108013            0            0            0            0            0   \n",
       "126232            0            0            1            0            0   \n",
       "126327            0            0            0            0            0   \n",
       "126407            1            0            0            0            0   \n",
       "\n",
       "        Soil_Type38  Soil_Type39  Soil_Type40  Cover_Type  \n",
       "1627              0            0            0           1  \n",
       "1628              0            0            0           1  \n",
       "1629              0            0            0           1  \n",
       "1651              0            0            0           1  \n",
       "1654              0            0            0           1  \n",
       "...             ...          ...          ...         ...  \n",
       "108005            0            0            0           7  \n",
       "108013            0            0            1           7  \n",
       "126232            0            0            0           7  \n",
       "126327            0            0            0           7  \n",
       "126407            0            0            0           7  \n",
       "\n",
       "[126 rows x 56 columns]"
      ]
     },
     "execution_count": 134,
     "metadata": {},
     "output_type": "execute_result"
    }
   ],
   "source": [
    "# kolon elemanlarından en az biri boş olanı getir\n",
    "df[df.isnull().any(axis=1)]"
   ]
  },
  {
   "cell_type": "code",
   "execution_count": 135,
   "id": "cff2f6df",
   "metadata": {},
   "outputs": [
    {
     "data": {
      "text/html": [
       "<div>\n",
       "<style scoped>\n",
       "    .dataframe tbody tr th:only-of-type {\n",
       "        vertical-align: middle;\n",
       "    }\n",
       "\n",
       "    .dataframe tbody tr th {\n",
       "        vertical-align: top;\n",
       "    }\n",
       "\n",
       "    .dataframe thead th {\n",
       "        text-align: right;\n",
       "    }\n",
       "</style>\n",
       "<table border=\"1\" class=\"dataframe\">\n",
       "  <thead>\n",
       "    <tr style=\"text-align: right;\">\n",
       "      <th></th>\n",
       "      <th>Id</th>\n",
       "      <th>Elevation</th>\n",
       "      <th>Aspect</th>\n",
       "      <th>Slope</th>\n",
       "      <th>Horizontal_Distance_To_Hydrology</th>\n",
       "      <th>Vertical_Distance_To_Hydrology</th>\n",
       "      <th>Horizontal_Distance_To_Roadways</th>\n",
       "      <th>Hillshade_9am</th>\n",
       "      <th>Hillshade_Noon</th>\n",
       "      <th>Hillshade_3pm</th>\n",
       "      <th>...</th>\n",
       "      <th>Soil_Type32</th>\n",
       "      <th>Soil_Type33</th>\n",
       "      <th>Soil_Type34</th>\n",
       "      <th>Soil_Type35</th>\n",
       "      <th>Soil_Type36</th>\n",
       "      <th>Soil_Type37</th>\n",
       "      <th>Soil_Type38</th>\n",
       "      <th>Soil_Type39</th>\n",
       "      <th>Soil_Type40</th>\n",
       "      <th>Cover_Type</th>\n",
       "    </tr>\n",
       "  </thead>\n",
       "  <tbody>\n",
       "    <tr>\n",
       "      <th>0</th>\n",
       "      <td>1</td>\n",
       "      <td>3317.0</td>\n",
       "      <td>131.0</td>\n",
       "      <td>20.0</td>\n",
       "      <td>232.0</td>\n",
       "      <td>21.0</td>\n",
       "      <td>1762.0</td>\n",
       "      <td>237.0</td>\n",
       "      <td>195.0</td>\n",
       "      <td>136.0</td>\n",
       "      <td>...</td>\n",
       "      <td>1</td>\n",
       "      <td>0</td>\n",
       "      <td>0</td>\n",
       "      <td>0</td>\n",
       "      <td>0</td>\n",
       "      <td>0</td>\n",
       "      <td>0</td>\n",
       "      <td>0</td>\n",
       "      <td>0</td>\n",
       "      <td>1</td>\n",
       "    </tr>\n",
       "    <tr>\n",
       "      <th>1</th>\n",
       "      <td>2</td>\n",
       "      <td>3221.0</td>\n",
       "      <td>243.0</td>\n",
       "      <td>7.0</td>\n",
       "      <td>163.0</td>\n",
       "      <td>161.0</td>\n",
       "      <td>2153.0</td>\n",
       "      <td>196.0</td>\n",
       "      <td>222.0</td>\n",
       "      <td>131.0</td>\n",
       "      <td>...</td>\n",
       "      <td>0</td>\n",
       "      <td>0</td>\n",
       "      <td>0</td>\n",
       "      <td>1</td>\n",
       "      <td>0</td>\n",
       "      <td>0</td>\n",
       "      <td>0</td>\n",
       "      <td>0</td>\n",
       "      <td>0</td>\n",
       "      <td>1</td>\n",
       "    </tr>\n",
       "    <tr>\n",
       "      <th>2</th>\n",
       "      <td>3</td>\n",
       "      <td>3156.0</td>\n",
       "      <td>305.0</td>\n",
       "      <td>12.0</td>\n",
       "      <td>183.0</td>\n",
       "      <td>5.0</td>\n",
       "      <td>2769.0</td>\n",
       "      <td>240.0</td>\n",
       "      <td>253.0</td>\n",
       "      <td>235.0</td>\n",
       "      <td>...</td>\n",
       "      <td>1</td>\n",
       "      <td>0</td>\n",
       "      <td>0</td>\n",
       "      <td>0</td>\n",
       "      <td>0</td>\n",
       "      <td>0</td>\n",
       "      <td>0</td>\n",
       "      <td>0</td>\n",
       "      <td>0</td>\n",
       "      <td>1</td>\n",
       "    </tr>\n",
       "    <tr>\n",
       "      <th>3</th>\n",
       "      <td>4</td>\n",
       "      <td>3157.0</td>\n",
       "      <td>135.0</td>\n",
       "      <td>10.0</td>\n",
       "      <td>68.0</td>\n",
       "      <td>55.0</td>\n",
       "      <td>1641.0</td>\n",
       "      <td>227.0</td>\n",
       "      <td>253.0</td>\n",
       "      <td>159.0</td>\n",
       "      <td>...</td>\n",
       "      <td>1</td>\n",
       "      <td>0</td>\n",
       "      <td>0</td>\n",
       "      <td>0</td>\n",
       "      <td>0</td>\n",
       "      <td>0</td>\n",
       "      <td>0</td>\n",
       "      <td>0</td>\n",
       "      <td>0</td>\n",
       "      <td>1</td>\n",
       "    </tr>\n",
       "    <tr>\n",
       "      <th>4</th>\n",
       "      <td>5</td>\n",
       "      <td>3209.0</td>\n",
       "      <td>292.0</td>\n",
       "      <td>2.0</td>\n",
       "      <td>430.0</td>\n",
       "      <td>39.0</td>\n",
       "      <td>460.0</td>\n",
       "      <td>223.0</td>\n",
       "      <td>246.0</td>\n",
       "      <td>125.0</td>\n",
       "      <td>...</td>\n",
       "      <td>1</td>\n",
       "      <td>0</td>\n",
       "      <td>0</td>\n",
       "      <td>0</td>\n",
       "      <td>0</td>\n",
       "      <td>0</td>\n",
       "      <td>0</td>\n",
       "      <td>0</td>\n",
       "      <td>0</td>\n",
       "      <td>1</td>\n",
       "    </tr>\n",
       "    <tr>\n",
       "      <th>...</th>\n",
       "      <td>...</td>\n",
       "      <td>...</td>\n",
       "      <td>...</td>\n",
       "      <td>...</td>\n",
       "      <td>...</td>\n",
       "      <td>...</td>\n",
       "      <td>...</td>\n",
       "      <td>...</td>\n",
       "      <td>...</td>\n",
       "      <td>...</td>\n",
       "      <td>...</td>\n",
       "      <td>...</td>\n",
       "      <td>...</td>\n",
       "      <td>...</td>\n",
       "      <td>...</td>\n",
       "      <td>...</td>\n",
       "      <td>...</td>\n",
       "      <td>...</td>\n",
       "      <td>...</td>\n",
       "      <td>...</td>\n",
       "      <td>...</td>\n",
       "    </tr>\n",
       "    <tr>\n",
       "      <th>126421</th>\n",
       "      <td>126422</td>\n",
       "      <td>3286.0</td>\n",
       "      <td>35.0</td>\n",
       "      <td>23.0</td>\n",
       "      <td>416.0</td>\n",
       "      <td>-3.0</td>\n",
       "      <td>942.0</td>\n",
       "      <td>241.0</td>\n",
       "      <td>229.0</td>\n",
       "      <td>148.0</td>\n",
       "      <td>...</td>\n",
       "      <td>0</td>\n",
       "      <td>0</td>\n",
       "      <td>0</td>\n",
       "      <td>0</td>\n",
       "      <td>0</td>\n",
       "      <td>0</td>\n",
       "      <td>0</td>\n",
       "      <td>1</td>\n",
       "      <td>0</td>\n",
       "      <td>7</td>\n",
       "    </tr>\n",
       "    <tr>\n",
       "      <th>126422</th>\n",
       "      <td>126423</td>\n",
       "      <td>3401.0</td>\n",
       "      <td>15.0</td>\n",
       "      <td>10.0</td>\n",
       "      <td>225.0</td>\n",
       "      <td>-5.0</td>\n",
       "      <td>1345.0</td>\n",
       "      <td>214.0</td>\n",
       "      <td>235.0</td>\n",
       "      <td>140.0</td>\n",
       "      <td>...</td>\n",
       "      <td>0</td>\n",
       "      <td>0</td>\n",
       "      <td>0</td>\n",
       "      <td>0</td>\n",
       "      <td>0</td>\n",
       "      <td>0</td>\n",
       "      <td>0</td>\n",
       "      <td>1</td>\n",
       "      <td>0</td>\n",
       "      <td>7</td>\n",
       "    </tr>\n",
       "    <tr>\n",
       "      <th>126423</th>\n",
       "      <td>126424</td>\n",
       "      <td>3481.0</td>\n",
       "      <td>131.0</td>\n",
       "      <td>37.0</td>\n",
       "      <td>102.0</td>\n",
       "      <td>118.0</td>\n",
       "      <td>2074.0</td>\n",
       "      <td>252.0</td>\n",
       "      <td>165.0</td>\n",
       "      <td>100.0</td>\n",
       "      <td>...</td>\n",
       "      <td>0</td>\n",
       "      <td>0</td>\n",
       "      <td>0</td>\n",
       "      <td>0</td>\n",
       "      <td>0</td>\n",
       "      <td>0</td>\n",
       "      <td>0</td>\n",
       "      <td>1</td>\n",
       "      <td>0</td>\n",
       "      <td>7</td>\n",
       "    </tr>\n",
       "    <tr>\n",
       "      <th>126424</th>\n",
       "      <td>126425</td>\n",
       "      <td>3482.0</td>\n",
       "      <td>50.0</td>\n",
       "      <td>17.0</td>\n",
       "      <td>127.0</td>\n",
       "      <td>43.0</td>\n",
       "      <td>1949.0</td>\n",
       "      <td>228.0</td>\n",
       "      <td>199.0</td>\n",
       "      <td>133.0</td>\n",
       "      <td>...</td>\n",
       "      <td>0</td>\n",
       "      <td>0</td>\n",
       "      <td>0</td>\n",
       "      <td>0</td>\n",
       "      <td>0</td>\n",
       "      <td>0</td>\n",
       "      <td>0</td>\n",
       "      <td>0</td>\n",
       "      <td>0</td>\n",
       "      <td>7</td>\n",
       "    </tr>\n",
       "    <tr>\n",
       "      <th>126425</th>\n",
       "      <td>126426</td>\n",
       "      <td>3411.0</td>\n",
       "      <td>70.0</td>\n",
       "      <td>20.0</td>\n",
       "      <td>218.0</td>\n",
       "      <td>42.0</td>\n",
       "      <td>1237.0</td>\n",
       "      <td>234.0</td>\n",
       "      <td>212.0</td>\n",
       "      <td>162.0</td>\n",
       "      <td>...</td>\n",
       "      <td>0</td>\n",
       "      <td>0</td>\n",
       "      <td>0</td>\n",
       "      <td>0</td>\n",
       "      <td>0</td>\n",
       "      <td>0</td>\n",
       "      <td>0</td>\n",
       "      <td>1</td>\n",
       "      <td>0</td>\n",
       "      <td>7</td>\n",
       "    </tr>\n",
       "  </tbody>\n",
       "</table>\n",
       "<p>126300 rows × 56 columns</p>\n",
       "</div>"
      ],
      "text/plain": [
       "            Id  Elevation  Aspect  Slope  Horizontal_Distance_To_Hydrology  \\\n",
       "0            1     3317.0   131.0   20.0                             232.0   \n",
       "1            2     3221.0   243.0    7.0                             163.0   \n",
       "2            3     3156.0   305.0   12.0                             183.0   \n",
       "3            4     3157.0   135.0   10.0                              68.0   \n",
       "4            5     3209.0   292.0    2.0                             430.0   \n",
       "...        ...        ...     ...    ...                               ...   \n",
       "126421  126422     3286.0    35.0   23.0                             416.0   \n",
       "126422  126423     3401.0    15.0   10.0                             225.0   \n",
       "126423  126424     3481.0   131.0   37.0                             102.0   \n",
       "126424  126425     3482.0    50.0   17.0                             127.0   \n",
       "126425  126426     3411.0    70.0   20.0                             218.0   \n",
       "\n",
       "        Vertical_Distance_To_Hydrology  Horizontal_Distance_To_Roadways  \\\n",
       "0                                 21.0                           1762.0   \n",
       "1                                161.0                           2153.0   \n",
       "2                                  5.0                           2769.0   \n",
       "3                                 55.0                           1641.0   \n",
       "4                                 39.0                            460.0   \n",
       "...                                ...                              ...   \n",
       "126421                            -3.0                            942.0   \n",
       "126422                            -5.0                           1345.0   \n",
       "126423                           118.0                           2074.0   \n",
       "126424                            43.0                           1949.0   \n",
       "126425                            42.0                           1237.0   \n",
       "\n",
       "        Hillshade_9am  Hillshade_Noon  Hillshade_3pm  ...  Soil_Type32  \\\n",
       "0               237.0           195.0          136.0  ...            1   \n",
       "1               196.0           222.0          131.0  ...            0   \n",
       "2               240.0           253.0          235.0  ...            1   \n",
       "3               227.0           253.0          159.0  ...            1   \n",
       "4               223.0           246.0          125.0  ...            1   \n",
       "...               ...             ...            ...  ...          ...   \n",
       "126421          241.0           229.0          148.0  ...            0   \n",
       "126422          214.0           235.0          140.0  ...            0   \n",
       "126423          252.0           165.0          100.0  ...            0   \n",
       "126424          228.0           199.0          133.0  ...            0   \n",
       "126425          234.0           212.0          162.0  ...            0   \n",
       "\n",
       "        Soil_Type33  Soil_Type34  Soil_Type35  Soil_Type36  Soil_Type37  \\\n",
       "0                 0            0            0            0            0   \n",
       "1                 0            0            1            0            0   \n",
       "2                 0            0            0            0            0   \n",
       "3                 0            0            0            0            0   \n",
       "4                 0            0            0            0            0   \n",
       "...             ...          ...          ...          ...          ...   \n",
       "126421            0            0            0            0            0   \n",
       "126422            0            0            0            0            0   \n",
       "126423            0            0            0            0            0   \n",
       "126424            0            0            0            0            0   \n",
       "126425            0            0            0            0            0   \n",
       "\n",
       "        Soil_Type38  Soil_Type39  Soil_Type40  Cover_Type  \n",
       "0                 0            0            0           1  \n",
       "1                 0            0            0           1  \n",
       "2                 0            0            0           1  \n",
       "3                 0            0            0           1  \n",
       "4                 0            0            0           1  \n",
       "...             ...          ...          ...         ...  \n",
       "126421            0            1            0           7  \n",
       "126422            0            1            0           7  \n",
       "126423            0            1            0           7  \n",
       "126424            0            0            0           7  \n",
       "126425            0            1            0           7  \n",
       "\n",
       "[126300 rows x 56 columns]"
      ]
     },
     "execution_count": 135,
     "metadata": {},
     "output_type": "execute_result"
    }
   ],
   "source": [
    "#tümü dolu olanlar\n",
    "df[df.notnull().all(axis=1)]"
   ]
  },
  {
   "cell_type": "code",
   "execution_count": 151,
   "id": "0d5cd335",
   "metadata": {},
   "outputs": [
    {
     "data": {
      "text/html": [
       "<div>\n",
       "<style scoped>\n",
       "    .dataframe tbody tr th:only-of-type {\n",
       "        vertical-align: middle;\n",
       "    }\n",
       "\n",
       "    .dataframe tbody tr th {\n",
       "        vertical-align: top;\n",
       "    }\n",
       "\n",
       "    .dataframe thead th {\n",
       "        text-align: right;\n",
       "    }\n",
       "</style>\n",
       "<table border=\"1\" class=\"dataframe\">\n",
       "  <thead>\n",
       "    <tr style=\"text-align: right;\">\n",
       "      <th></th>\n",
       "      <th>Id</th>\n",
       "      <th>Elevation</th>\n",
       "      <th>Aspect</th>\n",
       "      <th>Slope</th>\n",
       "      <th>Horizontal_Distance_To_Hydrology</th>\n",
       "      <th>Vertical_Distance_To_Hydrology</th>\n",
       "      <th>Horizontal_Distance_To_Roadways</th>\n",
       "      <th>Hillshade_9am</th>\n",
       "      <th>Hillshade_Noon</th>\n",
       "      <th>Hillshade_3pm</th>\n",
       "      <th>...</th>\n",
       "      <th>Soil_Type32</th>\n",
       "      <th>Soil_Type33</th>\n",
       "      <th>Soil_Type34</th>\n",
       "      <th>Soil_Type35</th>\n",
       "      <th>Soil_Type36</th>\n",
       "      <th>Soil_Type37</th>\n",
       "      <th>Soil_Type38</th>\n",
       "      <th>Soil_Type39</th>\n",
       "      <th>Soil_Type40</th>\n",
       "      <th>Cover_Type</th>\n",
       "    </tr>\n",
       "  </thead>\n",
       "  <tbody>\n",
       "    <tr>\n",
       "      <th>0</th>\n",
       "      <td>1</td>\n",
       "      <td>3317.0</td>\n",
       "      <td>131.0</td>\n",
       "      <td>20.0</td>\n",
       "      <td>232.0</td>\n",
       "      <td>21.0</td>\n",
       "      <td>1762.0</td>\n",
       "      <td>237.0</td>\n",
       "      <td>195.0</td>\n",
       "      <td>136.0</td>\n",
       "      <td>...</td>\n",
       "      <td>1</td>\n",
       "      <td>0</td>\n",
       "      <td>0</td>\n",
       "      <td>0</td>\n",
       "      <td>0</td>\n",
       "      <td>0</td>\n",
       "      <td>0</td>\n",
       "      <td>0</td>\n",
       "      <td>0</td>\n",
       "      <td>1</td>\n",
       "    </tr>\n",
       "    <tr>\n",
       "      <th>1</th>\n",
       "      <td>2</td>\n",
       "      <td>3221.0</td>\n",
       "      <td>243.0</td>\n",
       "      <td>7.0</td>\n",
       "      <td>163.0</td>\n",
       "      <td>161.0</td>\n",
       "      <td>2153.0</td>\n",
       "      <td>196.0</td>\n",
       "      <td>222.0</td>\n",
       "      <td>131.0</td>\n",
       "      <td>...</td>\n",
       "      <td>0</td>\n",
       "      <td>0</td>\n",
       "      <td>0</td>\n",
       "      <td>1</td>\n",
       "      <td>0</td>\n",
       "      <td>0</td>\n",
       "      <td>0</td>\n",
       "      <td>0</td>\n",
       "      <td>0</td>\n",
       "      <td>1</td>\n",
       "    </tr>\n",
       "    <tr>\n",
       "      <th>2</th>\n",
       "      <td>3</td>\n",
       "      <td>3156.0</td>\n",
       "      <td>305.0</td>\n",
       "      <td>12.0</td>\n",
       "      <td>183.0</td>\n",
       "      <td>5.0</td>\n",
       "      <td>2769.0</td>\n",
       "      <td>240.0</td>\n",
       "      <td>253.0</td>\n",
       "      <td>235.0</td>\n",
       "      <td>...</td>\n",
       "      <td>1</td>\n",
       "      <td>0</td>\n",
       "      <td>0</td>\n",
       "      <td>0</td>\n",
       "      <td>0</td>\n",
       "      <td>0</td>\n",
       "      <td>0</td>\n",
       "      <td>0</td>\n",
       "      <td>0</td>\n",
       "      <td>1</td>\n",
       "    </tr>\n",
       "    <tr>\n",
       "      <th>3</th>\n",
       "      <td>4</td>\n",
       "      <td>3157.0</td>\n",
       "      <td>135.0</td>\n",
       "      <td>10.0</td>\n",
       "      <td>68.0</td>\n",
       "      <td>55.0</td>\n",
       "      <td>1641.0</td>\n",
       "      <td>227.0</td>\n",
       "      <td>253.0</td>\n",
       "      <td>159.0</td>\n",
       "      <td>...</td>\n",
       "      <td>1</td>\n",
       "      <td>0</td>\n",
       "      <td>0</td>\n",
       "      <td>0</td>\n",
       "      <td>0</td>\n",
       "      <td>0</td>\n",
       "      <td>0</td>\n",
       "      <td>0</td>\n",
       "      <td>0</td>\n",
       "      <td>1</td>\n",
       "    </tr>\n",
       "    <tr>\n",
       "      <th>4</th>\n",
       "      <td>5</td>\n",
       "      <td>3209.0</td>\n",
       "      <td>292.0</td>\n",
       "      <td>2.0</td>\n",
       "      <td>430.0</td>\n",
       "      <td>39.0</td>\n",
       "      <td>460.0</td>\n",
       "      <td>223.0</td>\n",
       "      <td>246.0</td>\n",
       "      <td>125.0</td>\n",
       "      <td>...</td>\n",
       "      <td>1</td>\n",
       "      <td>0</td>\n",
       "      <td>0</td>\n",
       "      <td>0</td>\n",
       "      <td>0</td>\n",
       "      <td>0</td>\n",
       "      <td>0</td>\n",
       "      <td>0</td>\n",
       "      <td>0</td>\n",
       "      <td>1</td>\n",
       "    </tr>\n",
       "    <tr>\n",
       "      <th>...</th>\n",
       "      <td>...</td>\n",
       "      <td>...</td>\n",
       "      <td>...</td>\n",
       "      <td>...</td>\n",
       "      <td>...</td>\n",
       "      <td>...</td>\n",
       "      <td>...</td>\n",
       "      <td>...</td>\n",
       "      <td>...</td>\n",
       "      <td>...</td>\n",
       "      <td>...</td>\n",
       "      <td>...</td>\n",
       "      <td>...</td>\n",
       "      <td>...</td>\n",
       "      <td>...</td>\n",
       "      <td>...</td>\n",
       "      <td>...</td>\n",
       "      <td>...</td>\n",
       "      <td>...</td>\n",
       "      <td>...</td>\n",
       "      <td>...</td>\n",
       "    </tr>\n",
       "    <tr>\n",
       "      <th>126421</th>\n",
       "      <td>126422</td>\n",
       "      <td>3286.0</td>\n",
       "      <td>35.0</td>\n",
       "      <td>23.0</td>\n",
       "      <td>416.0</td>\n",
       "      <td>-3.0</td>\n",
       "      <td>942.0</td>\n",
       "      <td>241.0</td>\n",
       "      <td>229.0</td>\n",
       "      <td>148.0</td>\n",
       "      <td>...</td>\n",
       "      <td>0</td>\n",
       "      <td>0</td>\n",
       "      <td>0</td>\n",
       "      <td>0</td>\n",
       "      <td>0</td>\n",
       "      <td>0</td>\n",
       "      <td>0</td>\n",
       "      <td>1</td>\n",
       "      <td>0</td>\n",
       "      <td>7</td>\n",
       "    </tr>\n",
       "    <tr>\n",
       "      <th>126422</th>\n",
       "      <td>126423</td>\n",
       "      <td>3401.0</td>\n",
       "      <td>15.0</td>\n",
       "      <td>10.0</td>\n",
       "      <td>225.0</td>\n",
       "      <td>-5.0</td>\n",
       "      <td>1345.0</td>\n",
       "      <td>214.0</td>\n",
       "      <td>235.0</td>\n",
       "      <td>140.0</td>\n",
       "      <td>...</td>\n",
       "      <td>0</td>\n",
       "      <td>0</td>\n",
       "      <td>0</td>\n",
       "      <td>0</td>\n",
       "      <td>0</td>\n",
       "      <td>0</td>\n",
       "      <td>0</td>\n",
       "      <td>1</td>\n",
       "      <td>0</td>\n",
       "      <td>7</td>\n",
       "    </tr>\n",
       "    <tr>\n",
       "      <th>126423</th>\n",
       "      <td>126424</td>\n",
       "      <td>3481.0</td>\n",
       "      <td>131.0</td>\n",
       "      <td>37.0</td>\n",
       "      <td>102.0</td>\n",
       "      <td>118.0</td>\n",
       "      <td>2074.0</td>\n",
       "      <td>252.0</td>\n",
       "      <td>165.0</td>\n",
       "      <td>100.0</td>\n",
       "      <td>...</td>\n",
       "      <td>0</td>\n",
       "      <td>0</td>\n",
       "      <td>0</td>\n",
       "      <td>0</td>\n",
       "      <td>0</td>\n",
       "      <td>0</td>\n",
       "      <td>0</td>\n",
       "      <td>1</td>\n",
       "      <td>0</td>\n",
       "      <td>7</td>\n",
       "    </tr>\n",
       "    <tr>\n",
       "      <th>126424</th>\n",
       "      <td>126425</td>\n",
       "      <td>3482.0</td>\n",
       "      <td>50.0</td>\n",
       "      <td>17.0</td>\n",
       "      <td>127.0</td>\n",
       "      <td>43.0</td>\n",
       "      <td>1949.0</td>\n",
       "      <td>228.0</td>\n",
       "      <td>199.0</td>\n",
       "      <td>133.0</td>\n",
       "      <td>...</td>\n",
       "      <td>0</td>\n",
       "      <td>0</td>\n",
       "      <td>0</td>\n",
       "      <td>0</td>\n",
       "      <td>0</td>\n",
       "      <td>0</td>\n",
       "      <td>0</td>\n",
       "      <td>0</td>\n",
       "      <td>0</td>\n",
       "      <td>7</td>\n",
       "    </tr>\n",
       "    <tr>\n",
       "      <th>126425</th>\n",
       "      <td>126426</td>\n",
       "      <td>3411.0</td>\n",
       "      <td>70.0</td>\n",
       "      <td>20.0</td>\n",
       "      <td>218.0</td>\n",
       "      <td>42.0</td>\n",
       "      <td>1237.0</td>\n",
       "      <td>234.0</td>\n",
       "      <td>212.0</td>\n",
       "      <td>162.0</td>\n",
       "      <td>...</td>\n",
       "      <td>0</td>\n",
       "      <td>0</td>\n",
       "      <td>0</td>\n",
       "      <td>0</td>\n",
       "      <td>0</td>\n",
       "      <td>0</td>\n",
       "      <td>0</td>\n",
       "      <td>1</td>\n",
       "      <td>0</td>\n",
       "      <td>7</td>\n",
       "    </tr>\n",
       "  </tbody>\n",
       "</table>\n",
       "<p>126426 rows × 56 columns</p>\n",
       "</div>"
      ],
      "text/plain": [
       "            Id  Elevation  Aspect  Slope  Horizontal_Distance_To_Hydrology  \\\n",
       "0            1     3317.0   131.0   20.0                             232.0   \n",
       "1            2     3221.0   243.0    7.0                             163.0   \n",
       "2            3     3156.0   305.0   12.0                             183.0   \n",
       "3            4     3157.0   135.0   10.0                              68.0   \n",
       "4            5     3209.0   292.0    2.0                             430.0   \n",
       "...        ...        ...     ...    ...                               ...   \n",
       "126421  126422     3286.0    35.0   23.0                             416.0   \n",
       "126422  126423     3401.0    15.0   10.0                             225.0   \n",
       "126423  126424     3481.0   131.0   37.0                             102.0   \n",
       "126424  126425     3482.0    50.0   17.0                             127.0   \n",
       "126425  126426     3411.0    70.0   20.0                             218.0   \n",
       "\n",
       "        Vertical_Distance_To_Hydrology  Horizontal_Distance_To_Roadways  \\\n",
       "0                                 21.0                           1762.0   \n",
       "1                                161.0                           2153.0   \n",
       "2                                  5.0                           2769.0   \n",
       "3                                 55.0                           1641.0   \n",
       "4                                 39.0                            460.0   \n",
       "...                                ...                              ...   \n",
       "126421                            -3.0                            942.0   \n",
       "126422                            -5.0                           1345.0   \n",
       "126423                           118.0                           2074.0   \n",
       "126424                            43.0                           1949.0   \n",
       "126425                            42.0                           1237.0   \n",
       "\n",
       "        Hillshade_9am  Hillshade_Noon  Hillshade_3pm  ...  Soil_Type32  \\\n",
       "0               237.0           195.0          136.0  ...            1   \n",
       "1               196.0           222.0          131.0  ...            0   \n",
       "2               240.0           253.0          235.0  ...            1   \n",
       "3               227.0           253.0          159.0  ...            1   \n",
       "4               223.0           246.0          125.0  ...            1   \n",
       "...               ...             ...            ...  ...          ...   \n",
       "126421          241.0           229.0          148.0  ...            0   \n",
       "126422          214.0           235.0          140.0  ...            0   \n",
       "126423          252.0           165.0          100.0  ...            0   \n",
       "126424          228.0           199.0          133.0  ...            0   \n",
       "126425          234.0           212.0          162.0  ...            0   \n",
       "\n",
       "        Soil_Type33  Soil_Type34  Soil_Type35  Soil_Type36  Soil_Type37  \\\n",
       "0                 0            0            0            0            0   \n",
       "1                 0            0            1            0            0   \n",
       "2                 0            0            0            0            0   \n",
       "3                 0            0            0            0            0   \n",
       "4                 0            0            0            0            0   \n",
       "...             ...          ...          ...          ...          ...   \n",
       "126421            0            0            0            0            0   \n",
       "126422            0            0            0            0            0   \n",
       "126423            0            0            0            0            0   \n",
       "126424            0            0            0            0            0   \n",
       "126425            0            0            0            0            0   \n",
       "\n",
       "        Soil_Type38  Soil_Type39  Soil_Type40  Cover_Type  \n",
       "0                 0            0            0           1  \n",
       "1                 0            0            0           1  \n",
       "2                 0            0            0           1  \n",
       "3                 0            0            0           1  \n",
       "4                 0            0            0           1  \n",
       "...             ...          ...          ...         ...  \n",
       "126421            0            1            0           7  \n",
       "126422            0            1            0           7  \n",
       "126423            0            1            0           7  \n",
       "126424            0            0            0           7  \n",
       "126425            0            1            0           7  \n",
       "\n",
       "[126426 rows x 56 columns]"
      ]
     },
     "execution_count": 151,
     "metadata": {},
     "output_type": "execute_result"
    }
   ],
   "source": [
    "#Eksik veriler ortalamayla dolduruldu\n",
    "df.apply(lambda x: x.fillna(x.mean()),axis=0)"
   ]
  },
  {
   "cell_type": "code",
   "execution_count": 154,
   "id": "92ce89f4",
   "metadata": {},
   "outputs": [],
   "source": [
    "from sklearn.model_selection import train_test_split"
   ]
  },
  {
   "cell_type": "code",
   "execution_count": 356,
   "id": "e62503f8",
   "metadata": {},
   "outputs": [
    {
     "data": {
      "text/plain": [
       "array([[1.00000000e+00, 6.13957241e-01, 3.70023419e-01, ...,\n",
       "        0.00000000e+00, 0.00000000e+00, 0.00000000e+00],\n",
       "       [2.00000000e+00, 5.75231948e-01, 6.32318501e-01, ...,\n",
       "        0.00000000e+00, 0.00000000e+00, 0.00000000e+00],\n",
       "       [3.00000000e+00, 5.49011698e-01, 7.77517564e-01, ...,\n",
       "        0.00000000e+00, 0.00000000e+00, 0.00000000e+00],\n",
       "       ...,\n",
       "       [1.26424000e+05, 6.80112949e-01, 3.70023419e-01, ...,\n",
       "        0.00000000e+00, 1.00000000e+00, 0.00000000e+00],\n",
       "       [1.26425000e+05, 6.80516337e-01, 1.80327869e-01, ...,\n",
       "        0.00000000e+00, 0.00000000e+00, 0.00000000e+00],\n",
       "       [1.26426000e+05, 6.51875756e-01, 2.27166276e-01, ...,\n",
       "        0.00000000e+00, 1.00000000e+00, 0.00000000e+00]])"
      ]
     },
     "execution_count": 356,
     "metadata": {},
     "output_type": "execute_result"
    }
   ],
   "source": [
    "#son sütun hariç\n",
    "X = df.iloc[:,:-1].values\n",
    "X"
   ]
  },
  {
   "cell_type": "code",
   "execution_count": 357,
   "id": "1c6f92d4",
   "metadata": {},
   "outputs": [
    {
     "data": {
      "text/plain": [
       "array([1, 1, 1, ..., 7, 7, 7], dtype=int64)"
      ]
     },
     "execution_count": 357,
     "metadata": {},
     "output_type": "execute_result"
    }
   ],
   "source": [
    "y = df.iloc[:,55].values\n",
    "y"
   ]
  },
  {
   "cell_type": "code",
   "execution_count": 358,
   "id": "38fe5ef2",
   "metadata": {},
   "outputs": [],
   "source": [
    "X_train, X_test, y_train, y_test = train_test_split(X, y, test_size = 0.2, random_state = 0)"
   ]
  },
  {
   "cell_type": "code",
   "execution_count": 359,
   "id": "d9c98125",
   "metadata": {},
   "outputs": [
    {
     "data": {
      "text/plain": [
       "(array([[7.80210000e+04, 2.86809197e-01, 2.74004684e-01, ...,\n",
       "         0.00000000e+00, 0.00000000e+00, 0.00000000e+00],\n",
       "        [2.66120000e+04, 5.71198064e-01, 2.97423888e-01, ...,\n",
       "         0.00000000e+00, 0.00000000e+00, 0.00000000e+00],\n",
       "        [6.66530000e+04, 3.54175071e-01, 8.07962529e-01, ...,\n",
       "         0.00000000e+00, 0.00000000e+00, 0.00000000e+00],\n",
       "        ...,\n",
       "        [4.26790000e+04, 4.25171440e-01, 4.40281030e-01, ...,\n",
       "         0.00000000e+00, 0.00000000e+00, 0.00000000e+00],\n",
       "        [4.36330000e+04, 4.03388463e-01, 1.35831382e-01, ...,\n",
       "         0.00000000e+00, 0.00000000e+00, 0.00000000e+00],\n",
       "        [6.83520000e+04, 3.33602259e-01, 1.87353630e-01, ...,\n",
       "         0.00000000e+00, 0.00000000e+00, 0.00000000e+00]]),\n",
       " array([[1.18814000e+05, 5.83703106e-01, 5.40983607e-01, ...,\n",
       "         0.00000000e+00, 1.00000000e+00, 1.00000000e+00],\n",
       "        [1.94680000e+04, 5.64340460e-01, 2.15456674e-01, ...,\n",
       "         0.00000000e+00, 0.00000000e+00, 0.00000000e+00],\n",
       "        [4.16000000e+04, 4.14279952e-01, 3.88758782e-01, ...,\n",
       "         0.00000000e+00, 0.00000000e+00, 1.00000000e+00],\n",
       "        ...,\n",
       "        [3.37270000e+04, 4.21137555e-01, 3.55971897e-01, ...,\n",
       "         0.00000000e+00, 0.00000000e+00, 0.00000000e+00],\n",
       "        [4.64850000e+04, 4.55425575e-01, 5.19906323e-01, ...,\n",
       "         0.00000000e+00, 0.00000000e+00, 0.00000000e+00],\n",
       "        [5.43770000e+04, 4.25978217e-01, 7.04918033e-01, ...,\n",
       "         0.00000000e+00, 0.00000000e+00, 0.00000000e+00]]),\n",
       " array([3, 1, 3, ..., 2, 2, 3], dtype=int64),\n",
       " array([7, 1, 2, ..., 2, 2, 2], dtype=int64))"
      ]
     },
     "execution_count": 359,
     "metadata": {},
     "output_type": "execute_result"
    }
   ],
   "source": [
    "X_train, X_test, y_train, y_test "
   ]
  },
  {
   "cell_type": "code",
   "execution_count": 164,
   "id": "7a4c6617",
   "metadata": {},
   "outputs": [],
   "source": [
    "from sklearn.naive_bayes import GaussianNB"
   ]
  },
  {
   "cell_type": "code",
   "execution_count": 360,
   "id": "44f5f8ac",
   "metadata": {
    "scrolled": false
   },
   "outputs": [
    {
     "data": {
      "text/plain": [
       "GaussianNB()"
      ]
     },
     "execution_count": 360,
     "metadata": {},
     "output_type": "execute_result"
    }
   ],
   "source": [
    "nb=GaussianNB()\n",
    "nb_model1=nb.fit(X_train,y_train)\n",
    "nb_model1"
   ]
  },
  {
   "cell_type": "code",
   "execution_count": 361,
   "id": "da3ac27b",
   "metadata": {},
   "outputs": [
    {
     "data": {
      "text/plain": [
       "array([7, 1, 2, ..., 2, 2, 2], dtype=int64)"
      ]
     },
     "execution_count": 361,
     "metadata": {},
     "output_type": "execute_result"
    }
   ],
   "source": [
    "nb_model1.predict(X_test)"
   ]
  },
  {
   "cell_type": "code",
   "execution_count": 362,
   "id": "0c07bfbe",
   "metadata": {
    "scrolled": true
   },
   "outputs": [
    {
     "data": {
      "text/plain": [
       "array([[7.33965737e-032, 1.36284662e-016, 2.75311374e-006,\n",
       "        1.29072821e-011, 9.99997247e-001],\n",
       "       [9.86760004e-001, 1.32399948e-002, 8.50348310e-010,\n",
       "        2.42152951e-117, 2.63447013e-038],\n",
       "       [9.07019988e-003, 9.90285986e-001, 6.43813682e-004,\n",
       "        1.42230212e-059, 1.38274946e-022],\n",
       "       ...,\n",
       "       [1.99995404e-001, 7.99988847e-001, 1.57488483e-005,\n",
       "        1.20295212e-077, 1.14831001e-027],\n",
       "       [1.24184278e-003, 9.93840120e-001, 4.91803715e-003,\n",
       "        1.78914435e-049, 8.22739078e-020],\n",
       "       [5.12367014e-005, 9.00441486e-001, 9.95072770e-002,\n",
       "        5.53061356e-035, 2.14219607e-015]])"
      ]
     },
     "execution_count": 362,
     "metadata": {},
     "output_type": "execute_result"
    }
   ],
   "source": [
    "#olasılıklar\n",
    "nb_model1.predict_proba(X_test)"
   ]
  },
  {
   "cell_type": "code",
   "execution_count": 363,
   "id": "39e09cb7",
   "metadata": {},
   "outputs": [],
   "source": [
    "y_pred=nb_model1.predict(X_test)"
   ]
  },
  {
   "cell_type": "code",
   "execution_count": 364,
   "id": "a209a4b0",
   "metadata": {},
   "outputs": [
    {
     "data": {
      "text/plain": [
       "0.9963578780680918"
      ]
     },
     "execution_count": 364,
     "metadata": {},
     "output_type": "execute_result"
    }
   ],
   "source": [
    "accuracy_score(y_test, y_pred)"
   ]
  },
  {
   "cell_type": "code",
   "execution_count": 371,
   "id": "3c86aec0",
   "metadata": {},
   "outputs": [],
   "source": [
    "import pickle\n",
    "with open('181213099_nb_1.pkl', 'wb') as f:\n",
    "        pickle.dump(nb_model1, f)"
   ]
  },
  {
   "cell_type": "code",
   "execution_count": 366,
   "id": "43cb7f7d",
   "metadata": {},
   "outputs": [
    {
     "data": {
      "text/plain": [
       "KNeighborsClassifier(n_neighbors=3)"
      ]
     },
     "execution_count": 366,
     "metadata": {},
     "output_type": "execute_result"
    }
   ],
   "source": [
    "from sklearn.neighbors import KNeighborsClassifier\n",
    "knn=KNeighborsClassifier(n_neighbors=3)\n",
    "knn_model1=knn.fit(X_train, y_train)\n",
    "knn_model1"
   ]
  },
  {
   "cell_type": "code",
   "execution_count": 367,
   "id": "8c4a0629",
   "metadata": {},
   "outputs": [],
   "source": [
    "y_pred=knn_model1.predict(X_test)"
   ]
  },
  {
   "cell_type": "code",
   "execution_count": 368,
   "id": "55f58fde",
   "metadata": {},
   "outputs": [
    {
     "data": {
      "text/plain": [
       "1.0"
      ]
     },
     "execution_count": 368,
     "metadata": {},
     "output_type": "execute_result"
    }
   ],
   "source": [
    "accuracy_score(y_test,y_pred)"
   ]
  },
  {
   "cell_type": "code",
   "execution_count": 370,
   "id": "0267a312",
   "metadata": {},
   "outputs": [],
   "source": [
    "import pickle\n",
    "with open('181213099_knn_1.pkl', 'wb') as f:\n",
    "        pickle.dump(knn_model1, f)"
   ]
  },
  {
   "cell_type": "code",
   "execution_count": 322,
   "id": "57fa890a",
   "metadata": {},
   "outputs": [],
   "source": [
    "from lightgbm import LGBMClassifier"
   ]
  },
  {
   "cell_type": "code",
   "execution_count": 373,
   "id": "cfd1ccba",
   "metadata": {},
   "outputs": [],
   "source": [
    "lgbm_model1=LGBMClassifier().fit(X_train,y_train)"
   ]
  },
  {
   "cell_type": "code",
   "execution_count": 374,
   "id": "85c34977",
   "metadata": {},
   "outputs": [
    {
     "data": {
      "text/plain": [
       "0.9995249406175772"
      ]
     },
     "execution_count": 374,
     "metadata": {},
     "output_type": "execute_result"
    }
   ],
   "source": [
    "y_pred=lgbm_model1.predict(X_test)\n",
    "accuracy_score(y_test,y_pred)"
   ]
  },
  {
   "cell_type": "code",
   "execution_count": 375,
   "id": "7ed4edd4",
   "metadata": {},
   "outputs": [],
   "source": [
    "import pickle\n",
    "with open('181213099_lgbm_1.pkl', 'wb') as f:\n",
    "        pickle.dump(lgbm_model1, f)"
   ]
  },
  {
   "cell_type": "code",
   "execution_count": 387,
   "id": "3b285dd3",
   "metadata": {},
   "outputs": [
    {
     "data": {
      "text/plain": [
       "DecisionTreeClassifier()"
      ]
     },
     "execution_count": 387,
     "metadata": {},
     "output_type": "execute_result"
    }
   ],
   "source": [
    "from sklearn.tree import DecisionTreeClassifier\n",
    "from sklearn.model_selection import cross_val_score\n",
    "from sklearn.metrics import accuracy_score,f1_score\n",
    "cart= DecisionTreeClassifier()\n",
    "cart_model1=cart.fit(X_train,y_train)\n",
    "cart_model1"
   ]
  },
  {
   "cell_type": "code",
   "execution_count": 388,
   "id": "950bb5bc",
   "metadata": {},
   "outputs": [
    {
     "data": {
      "text/plain": [
       "1.0"
      ]
     },
     "execution_count": 388,
     "metadata": {},
     "output_type": "execute_result"
    }
   ],
   "source": [
    "y_pred = cart_model1.predict(X_test)\n",
    "accuracy_score(y_test,y_pred)"
   ]
  },
  {
   "cell_type": "code",
   "execution_count": 389,
   "id": "0fbade5f",
   "metadata": {},
   "outputs": [],
   "source": [
    "import pickle\n",
    "with open('181213099_cartmodel1.pkl', 'wb') as f:\n",
    "        pickle.dump(cart_model1, f)"
   ]
  },
  {
   "cell_type": "code",
   "execution_count": null,
   "id": "1c3c7166",
   "metadata": {},
   "outputs": [],
   "source": []
  }
 ],
 "metadata": {
  "kernelspec": {
   "display_name": "Python 3",
   "language": "python",
   "name": "python3"
  },
  "language_info": {
   "codemirror_mode": {
    "name": "ipython",
    "version": 3
   },
   "file_extension": ".py",
   "mimetype": "text/x-python",
   "name": "python",
   "nbconvert_exporter": "python",
   "pygments_lexer": "ipython3",
   "version": "3.8.8"
  }
 },
 "nbformat": 4,
 "nbformat_minor": 5
}
